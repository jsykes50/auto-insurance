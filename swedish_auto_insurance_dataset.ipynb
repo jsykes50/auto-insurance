{
  "cells": [
    {
      "cell_type": "markdown",
      "metadata": {
        "id": "view-in-github",
        "colab_type": "text"
      },
      "source": [
        "<a href=\"https://colab.research.google.com/github/jsykes50/auto-insurance/blob/main/swedish_auto_insurance_dataset.ipynb\" target=\"_parent\"><img src=\"https://colab.research.google.com/assets/colab-badge.svg\" alt=\"Open In Colab\"/></a>"
      ]
    },
    {
      "cell_type": "code",
      "execution_count": null,
      "metadata": {
        "_cell_guid": "b1076dfc-b9ad-4769-8c92-a6c4dae69d19",
        "_uuid": "8f2839f25d086af736a60e9eeb907d3b93b6e0e5",
        "execution": {
          "iopub.execute_input": "2021-01-18T05:19:43.349048Z",
          "iopub.status.busy": "2021-01-18T05:19:43.348362Z",
          "iopub.status.idle": "2021-01-18T05:19:43.362204Z",
          "shell.execute_reply": "2021-01-18T05:19:43.361490Z"
        },
        "papermill": {
          "duration": 0.035125,
          "end_time": "2021-01-18T05:19:43.362336",
          "exception": false,
          "start_time": "2021-01-18T05:19:43.327211",
          "status": "completed"
        },
        "tags": [],
        "id": "52wWY4Jje2w4",
        "outputId": "ecc231df-7284-4801-eef1-6a9df23e0e35"
      },
      "outputs": [
        {
          "name": "stdout",
          "output_type": "stream",
          "text": [
            "/kaggle/input/auto-insurance-in-sweden-small-dataset/insurance.csv\n"
          ]
        }
      ],
      "source": [
        "# This Python 3 environment comes with many helpful analytics libraries installed\n",
        "# It is defined by the kaggle/python Docker image: https://github.com/kaggle/docker-python\n",
        "# For example, here's several helpful packages to load\n",
        "\n",
        "import numpy as np # linear algebra\n",
        "import pandas as pd # data processing, CSV file I/O (e.g. pd.read_csv)\n",
        "\n",
        "# Input data files are available in the read-only \"../input/\" directory\n",
        "# For example, running this (by clicking run or pressing Shift+Enter) will list all files under the input directory\n",
        "\n",
        "import os\n",
        "for dirname, _, filenames in os.walk('/kaggle/input'):\n",
        "    for filename in filenames:\n",
        "        print(os.path.join(dirname, filename))\n",
        "\n",
        "# You can write up to 20GB to the current directory (/kaggle/working/) that gets preserved as output when you create a version using \"Save & Run All\"\n",
        "# You can also write temporary files to /kaggle/temp/, but they won't be saved outside of the current session"
      ]
    },
    {
      "cell_type": "code",
      "execution_count": null,
      "metadata": {
        "execution": {
          "iopub.execute_input": "2021-01-18T05:19:43.391285Z",
          "iopub.status.busy": "2021-01-18T05:19:43.390543Z",
          "iopub.status.idle": "2021-01-18T05:19:44.573165Z",
          "shell.execute_reply": "2021-01-18T05:19:44.572440Z"
        },
        "papermill": {
          "duration": 1.199037,
          "end_time": "2021-01-18T05:19:44.573292",
          "exception": false,
          "start_time": "2021-01-18T05:19:43.374255",
          "status": "completed"
        },
        "tags": [],
        "id": "R4fuVW6Ie2xC"
      },
      "outputs": [],
      "source": [
        "import matplotlib.pyplot as plt\n",
        "import seaborn as sns"
      ]
    },
    {
      "cell_type": "code",
      "execution_count": null,
      "metadata": {
        "_cell_guid": "79c7e3d0-c299-4dcb-8224-4455121ee9b0",
        "_uuid": "d629ff2d2480ee46fbb7e2d37f6b5fab8052498a",
        "execution": {
          "iopub.execute_input": "2021-01-18T05:19:44.603211Z",
          "iopub.status.busy": "2021-01-18T05:19:44.602515Z",
          "iopub.status.idle": "2021-01-18T05:19:44.614406Z",
          "shell.execute_reply": "2021-01-18T05:19:44.613186Z"
        },
        "papermill": {
          "duration": 0.029265,
          "end_time": "2021-01-18T05:19:44.614562",
          "exception": false,
          "start_time": "2021-01-18T05:19:44.585297",
          "status": "completed"
        },
        "tags": [],
        "id": "G1rzro-ee2xE"
      },
      "outputs": [],
      "source": [
        "df = pd.read_csv('../input/auto-insurance-in-sweden-small-dataset/insurance.csv', skiprows=4)"
      ]
    },
    {
      "cell_type": "code",
      "execution_count": null,
      "metadata": {
        "execution": {
          "iopub.execute_input": "2021-01-18T05:19:44.659324Z",
          "iopub.status.busy": "2021-01-18T05:19:44.650049Z",
          "iopub.status.idle": "2021-01-18T05:19:44.667000Z",
          "shell.execute_reply": "2021-01-18T05:19:44.667617Z"
        },
        "papermill": {
          "duration": 0.039374,
          "end_time": "2021-01-18T05:19:44.667786",
          "exception": false,
          "start_time": "2021-01-18T05:19:44.628412",
          "status": "completed"
        },
        "tags": [],
        "id": "-jtATHsMe2xF",
        "outputId": "9c9338bd-36e0-492e-a2dd-29aac8dae8eb"
      },
      "outputs": [
        {
          "data": {
            "text/html": [
              "<div>\n",
              "<style scoped>\n",
              "    .dataframe tbody tr th:only-of-type {\n",
              "        vertical-align: middle;\n",
              "    }\n",
              "\n",
              "    .dataframe tbody tr th {\n",
              "        vertical-align: top;\n",
              "    }\n",
              "\n",
              "    .dataframe thead th {\n",
              "        text-align: right;\n",
              "    }\n",
              "</style>\n",
              "<table border=\"1\" class=\"dataframe\">\n",
              "  <thead>\n",
              "    <tr style=\"text-align: right;\">\n",
              "      <th></th>\n",
              "      <th>Y = total payment for all the claims in thousands of Swedish Kronor</th>\n",
              "    </tr>\n",
              "  </thead>\n",
              "  <tbody>\n",
              "    <tr>\n",
              "      <th>108</th>\n",
              "      <td>392.5</td>\n",
              "    </tr>\n",
              "    <tr>\n",
              "      <th>19</th>\n",
              "      <td>46.2</td>\n",
              "    </tr>\n",
              "    <tr>\n",
              "      <th>13</th>\n",
              "      <td>15.7</td>\n",
              "    </tr>\n",
              "    <tr>\n",
              "      <th>124</th>\n",
              "      <td>422.2</td>\n",
              "    </tr>\n",
              "    <tr>\n",
              "      <th>40</th>\n",
              "      <td>119.4</td>\n",
              "    </tr>\n",
              "  </tbody>\n",
              "</table>\n",
              "</div>"
            ],
            "text/plain": [
              "     Y = total payment for all the claims in thousands of Swedish Kronor\n",
              "108                                              392.5                  \n",
              "19                                                46.2                  \n",
              "13                                                15.7                  \n",
              "124                                              422.2                  \n",
              "40                                               119.4                  "
            ]
          },
          "execution_count": 4,
          "metadata": {},
          "output_type": "execute_result"
        }
      ],
      "source": [
        "df.head()"
      ]
    },
    {
      "cell_type": "code",
      "execution_count": null,
      "metadata": {
        "execution": {
          "iopub.execute_input": "2021-01-18T05:19:44.697378Z",
          "iopub.status.busy": "2021-01-18T05:19:44.696722Z",
          "iopub.status.idle": "2021-01-18T05:19:44.709542Z",
          "shell.execute_reply": "2021-01-18T05:19:44.710056Z"
        },
        "papermill": {
          "duration": 0.028493,
          "end_time": "2021-01-18T05:19:44.710215",
          "exception": false,
          "start_time": "2021-01-18T05:19:44.681722",
          "status": "completed"
        },
        "tags": [],
        "id": "yacmuA8Ve2xG",
        "outputId": "2e89d2ad-e02e-4db2-e0a1-d96043516c9e"
      },
      "outputs": [
        {
          "name": "stdout",
          "output_type": "stream",
          "text": [
            "<class 'pandas.core.frame.DataFrame'>\n",
            "Int64Index: 63 entries, 108 to 26\n",
            "Data columns (total 1 columns):\n",
            " #   Column                                                               Non-Null Count  Dtype  \n",
            "---  ------                                                               --------------  -----  \n",
            " 0   Y = total payment for all the claims in thousands of Swedish Kronor  63 non-null     float64\n",
            "dtypes: float64(1)\n",
            "memory usage: 1008.0 bytes\n"
          ]
        }
      ],
      "source": [
        "df.info()"
      ]
    },
    {
      "cell_type": "code",
      "execution_count": null,
      "metadata": {
        "execution": {
          "iopub.execute_input": "2021-01-18T05:19:44.745596Z",
          "iopub.status.busy": "2021-01-18T05:19:44.744820Z",
          "iopub.status.idle": "2021-01-18T05:19:44.757993Z",
          "shell.execute_reply": "2021-01-18T05:19:44.756969Z"
        },
        "papermill": {
          "duration": 0.035378,
          "end_time": "2021-01-18T05:19:44.758146",
          "exception": false,
          "start_time": "2021-01-18T05:19:44.722768",
          "status": "completed"
        },
        "tags": [],
        "id": "t1wMYrQ_e2xJ",
        "outputId": "9c6eca52-1328-4414-d6ac-c5a1a4776ccf"
      },
      "outputs": [
        {
          "data": {
            "text/html": [
              "<div>\n",
              "<style scoped>\n",
              "    .dataframe tbody tr th:only-of-type {\n",
              "        vertical-align: middle;\n",
              "    }\n",
              "\n",
              "    .dataframe tbody tr th {\n",
              "        vertical-align: top;\n",
              "    }\n",
              "\n",
              "    .dataframe thead th {\n",
              "        text-align: right;\n",
              "    }\n",
              "</style>\n",
              "<table border=\"1\" class=\"dataframe\">\n",
              "  <thead>\n",
              "    <tr style=\"text-align: right;\">\n",
              "      <th></th>\n",
              "      <th>Y = total payment for all the claims in thousands of Swedish Kronor</th>\n",
              "    </tr>\n",
              "  </thead>\n",
              "  <tbody>\n",
              "    <tr>\n",
              "      <th>count</th>\n",
              "      <td>63.000000</td>\n",
              "    </tr>\n",
              "    <tr>\n",
              "      <th>mean</th>\n",
              "      <td>98.187302</td>\n",
              "    </tr>\n",
              "    <tr>\n",
              "      <th>std</th>\n",
              "      <td>87.327553</td>\n",
              "    </tr>\n",
              "    <tr>\n",
              "      <th>min</th>\n",
              "      <td>0.000000</td>\n",
              "    </tr>\n",
              "    <tr>\n",
              "      <th>25%</th>\n",
              "      <td>38.850000</td>\n",
              "    </tr>\n",
              "    <tr>\n",
              "      <th>50%</th>\n",
              "      <td>73.400000</td>\n",
              "    </tr>\n",
              "    <tr>\n",
              "      <th>75%</th>\n",
              "      <td>140.000000</td>\n",
              "    </tr>\n",
              "    <tr>\n",
              "      <th>max</th>\n",
              "      <td>422.200000</td>\n",
              "    </tr>\n",
              "  </tbody>\n",
              "</table>\n",
              "</div>"
            ],
            "text/plain": [
              "       Y = total payment for all the claims in thousands of Swedish Kronor\n",
              "count                                          63.000000                  \n",
              "mean                                           98.187302                  \n",
              "std                                            87.327553                  \n",
              "min                                             0.000000                  \n",
              "25%                                            38.850000                  \n",
              "50%                                            73.400000                  \n",
              "75%                                           140.000000                  \n",
              "max                                           422.200000                  "
            ]
          },
          "execution_count": 6,
          "metadata": {},
          "output_type": "execute_result"
        }
      ],
      "source": [
        "df.describe()"
      ]
    },
    {
      "cell_type": "code",
      "execution_count": null,
      "metadata": {
        "execution": {
          "iopub.execute_input": "2021-01-18T05:19:44.787300Z",
          "iopub.status.busy": "2021-01-18T05:19:44.786581Z",
          "iopub.status.idle": "2021-01-18T05:19:44.793640Z",
          "shell.execute_reply": "2021-01-18T05:19:44.793085Z"
        },
        "papermill": {
          "duration": 0.022475,
          "end_time": "2021-01-18T05:19:44.793765",
          "exception": false,
          "start_time": "2021-01-18T05:19:44.771290",
          "status": "completed"
        },
        "tags": [],
        "id": "2bKRqA8Ze2xK",
        "outputId": "ac496d3e-dc77-4e1a-e231-d757e6b302bc"
      },
      "outputs": [
        {
          "data": {
            "text/plain": [
              "(63, 1)"
            ]
          },
          "execution_count": 7,
          "metadata": {},
          "output_type": "execute_result"
        }
      ],
      "source": [
        "df.shape"
      ]
    },
    {
      "cell_type": "code",
      "execution_count": null,
      "metadata": {
        "execution": {
          "iopub.execute_input": "2021-01-18T05:19:44.825491Z",
          "iopub.status.busy": "2021-01-18T05:19:44.824493Z",
          "iopub.status.idle": "2021-01-18T05:19:44.827865Z",
          "shell.execute_reply": "2021-01-18T05:19:44.827400Z"
        },
        "papermill": {
          "duration": 0.020911,
          "end_time": "2021-01-18T05:19:44.828029",
          "exception": false,
          "start_time": "2021-01-18T05:19:44.807118",
          "status": "completed"
        },
        "tags": [],
        "id": "7cOLYcI4e2xM"
      },
      "outputs": [],
      "source": [
        "# Changing Column names"
      ]
    },
    {
      "cell_type": "code",
      "execution_count": null,
      "metadata": {
        "execution": {
          "iopub.execute_input": "2021-01-18T05:19:44.860643Z",
          "iopub.status.busy": "2021-01-18T05:19:44.860011Z",
          "iopub.status.idle": "2021-01-18T05:19:44.863980Z",
          "shell.execute_reply": "2021-01-18T05:19:44.863412Z"
        },
        "papermill": {
          "duration": 0.02278,
          "end_time": "2021-01-18T05:19:44.864111",
          "exception": false,
          "start_time": "2021-01-18T05:19:44.841331",
          "status": "completed"
        },
        "tags": [],
        "id": "uBxEJxEDe2xN"
      },
      "outputs": [],
      "source": [
        "df.rename(columns={'Y = total payment for all the claims in thousands of Swedish Kronor': 'Payments'}, inplace=True)"
      ]
    },
    {
      "cell_type": "code",
      "execution_count": null,
      "metadata": {
        "execution": {
          "iopub.execute_input": "2021-01-18T05:19:44.897667Z",
          "iopub.status.busy": "2021-01-18T05:19:44.897021Z",
          "iopub.status.idle": "2021-01-18T05:19:44.900568Z",
          "shell.execute_reply": "2021-01-18T05:19:44.899855Z"
        },
        "papermill": {
          "duration": 0.022928,
          "end_time": "2021-01-18T05:19:44.900712",
          "exception": false,
          "start_time": "2021-01-18T05:19:44.877784",
          "status": "completed"
        },
        "tags": [],
        "id": "ZkkyigJje2xO"
      },
      "outputs": [],
      "source": [
        "df['Claims'] = df.index\n",
        "df.reset_index(drop=True, inplace=True)"
      ]
    },
    {
      "cell_type": "code",
      "execution_count": null,
      "metadata": {
        "execution": {
          "iopub.execute_input": "2021-01-18T05:19:44.938034Z",
          "iopub.status.busy": "2021-01-18T05:19:44.937270Z",
          "iopub.status.idle": "2021-01-18T05:19:44.941815Z",
          "shell.execute_reply": "2021-01-18T05:19:44.942265Z"
        },
        "papermill": {
          "duration": 0.028121,
          "end_time": "2021-01-18T05:19:44.942429",
          "exception": false,
          "start_time": "2021-01-18T05:19:44.914308",
          "status": "completed"
        },
        "tags": [],
        "id": "HXNq02cae2xQ",
        "outputId": "b68984ac-6e61-4212-836a-bd43183cda0a"
      },
      "outputs": [
        {
          "data": {
            "text/html": [
              "<div>\n",
              "<style scoped>\n",
              "    .dataframe tbody tr th:only-of-type {\n",
              "        vertical-align: middle;\n",
              "    }\n",
              "\n",
              "    .dataframe tbody tr th {\n",
              "        vertical-align: top;\n",
              "    }\n",
              "\n",
              "    .dataframe thead th {\n",
              "        text-align: right;\n",
              "    }\n",
              "</style>\n",
              "<table border=\"1\" class=\"dataframe\">\n",
              "  <thead>\n",
              "    <tr style=\"text-align: right;\">\n",
              "      <th></th>\n",
              "      <th>Payments</th>\n",
              "      <th>Claims</th>\n",
              "    </tr>\n",
              "  </thead>\n",
              "  <tbody>\n",
              "    <tr>\n",
              "      <th>0</th>\n",
              "      <td>392.5</td>\n",
              "      <td>108</td>\n",
              "    </tr>\n",
              "    <tr>\n",
              "      <th>1</th>\n",
              "      <td>46.2</td>\n",
              "      <td>19</td>\n",
              "    </tr>\n",
              "    <tr>\n",
              "      <th>2</th>\n",
              "      <td>15.7</td>\n",
              "      <td>13</td>\n",
              "    </tr>\n",
              "    <tr>\n",
              "      <th>3</th>\n",
              "      <td>422.2</td>\n",
              "      <td>124</td>\n",
              "    </tr>\n",
              "    <tr>\n",
              "      <th>4</th>\n",
              "      <td>119.4</td>\n",
              "      <td>40</td>\n",
              "    </tr>\n",
              "  </tbody>\n",
              "</table>\n",
              "</div>"
            ],
            "text/plain": [
              "   Payments  Claims\n",
              "0     392.5     108\n",
              "1      46.2      19\n",
              "2      15.7      13\n",
              "3     422.2     124\n",
              "4     119.4      40"
            ]
          },
          "execution_count": 11,
          "metadata": {},
          "output_type": "execute_result"
        }
      ],
      "source": [
        "df.head()"
      ]
    },
    {
      "cell_type": "code",
      "execution_count": null,
      "metadata": {
        "execution": {
          "iopub.execute_input": "2021-01-18T05:19:44.976583Z",
          "iopub.status.busy": "2021-01-18T05:19:44.975913Z",
          "iopub.status.idle": "2021-01-18T05:19:45.187161Z",
          "shell.execute_reply": "2021-01-18T05:19:45.186572Z"
        },
        "papermill": {
          "duration": 0.230795,
          "end_time": "2021-01-18T05:19:45.187303",
          "exception": false,
          "start_time": "2021-01-18T05:19:44.956508",
          "status": "completed"
        },
        "tags": [],
        "id": "CHuqk2Rpe2xR",
        "outputId": "bbad0bc1-02fe-4858-84f9-13344dbe5de9"
      },
      "outputs": [
        {
          "data": {
            "image/png": "[encoded data removed]",
            "text/plain": [
              "<Figure size 432x288 with 1 Axes>"
            ]
          },
          "metadata": {
            "needs_background": "light"
          },
          "output_type": "display_data"
        }
      ],
      "source": [
        "plt.scatter(x=df['Claims'], y=df['Payments'])\n",
        "plt.show()"
      ]
    },
    {
      "cell_type": "code",
      "execution_count": null,
      "metadata": {
        "execution": {
          "iopub.execute_input": "2021-01-18T05:19:45.239303Z",
          "iopub.status.busy": "2021-01-18T05:19:45.238294Z",
          "iopub.status.idle": "2021-01-18T05:19:45.500201Z",
          "shell.execute_reply": "2021-01-18T05:19:45.499480Z"
        },
        "papermill": {
          "duration": 0.296602,
          "end_time": "2021-01-18T05:19:45.500364",
          "exception": false,
          "start_time": "2021-01-18T05:19:45.203762",
          "status": "completed"
        },
        "tags": [],
        "id": "xTTF9E4pe2xS",
        "outputId": "698b94e2-a6a7-464d-d900-694298f6e15c"
      },
      "outputs": [
        {
          "data": {
            "text/plain": [
              "<matplotlib.axes._subplots.AxesSubplot at 0x7f5d7a631a50>"
            ]
          },
          "execution_count": 13,
          "metadata": {},
          "output_type": "execute_result"
        },
        {
          "data": {
            "image/png": "[encoded data removed]",
            "text/plain": [
              "<Figure size 432x288 with 1 Axes>"
            ]
          },
          "metadata": {
            "needs_background": "light"
          },
          "output_type": "display_data"
        }
      ],
      "source": [
        "sns.regplot(x=\"Claims\", y=\"Payments\", data=df)"
      ]
    },
    {
      "cell_type": "code",
      "execution_count": null,
      "metadata": {
        "execution": {
          "iopub.execute_input": "2021-01-18T05:19:45.542122Z",
          "iopub.status.busy": "2021-01-18T05:19:45.541329Z",
          "iopub.status.idle": "2021-01-18T05:19:45.780738Z",
          "shell.execute_reply": "2021-01-18T05:19:45.781263Z"
        },
        "papermill": {
          "duration": 0.26033,
          "end_time": "2021-01-18T05:19:45.781419",
          "exception": false,
          "start_time": "2021-01-18T05:19:45.521089",
          "status": "completed"
        },
        "tags": [],
        "id": "6yqfXOMMe2xU"
      },
      "outputs": [],
      "source": [
        "from sklearn.model_selection import train_test_split\n",
        "from sklearn.linear_model import LinearRegression"
      ]
    },
    {
      "cell_type": "code",
      "execution_count": null,
      "metadata": {
        "execution": {
          "iopub.execute_input": "2021-01-18T05:19:45.819611Z",
          "iopub.status.busy": "2021-01-18T05:19:45.818875Z",
          "iopub.status.idle": "2021-01-18T05:19:45.822196Z",
          "shell.execute_reply": "2021-01-18T05:19:45.821565Z"
        },
        "papermill": {
          "duration": 0.024831,
          "end_time": "2021-01-18T05:19:45.822323",
          "exception": false,
          "start_time": "2021-01-18T05:19:45.797492",
          "status": "completed"
        },
        "tags": [],
        "id": "LvkanpL5e2xX"
      },
      "outputs": [],
      "source": [
        "x = df['Claims'].values\n",
        "y = df['Payments'].values"
      ]
    },
    {
      "cell_type": "code",
      "execution_count": null,
      "metadata": {
        "execution": {
          "iopub.execute_input": "2021-01-18T05:19:45.859677Z",
          "iopub.status.busy": "2021-01-18T05:19:45.859017Z",
          "iopub.status.idle": "2021-01-18T05:19:45.862108Z",
          "shell.execute_reply": "2021-01-18T05:19:45.862612Z"
        },
        "papermill": {
          "duration": 0.024433,
          "end_time": "2021-01-18T05:19:45.862763",
          "exception": false,
          "start_time": "2021-01-18T05:19:45.838330",
          "status": "completed"
        },
        "tags": [],
        "id": "hoPgH2Sge2xY"
      },
      "outputs": [],
      "source": [
        "x = x.reshape(-1,1)"
      ]
    },
    {
      "cell_type": "code",
      "execution_count": null,
      "metadata": {
        "execution": {
          "iopub.execute_input": "2021-01-18T05:19:45.898661Z",
          "iopub.status.busy": "2021-01-18T05:19:45.898008Z",
          "iopub.status.idle": "2021-01-18T05:19:45.903686Z",
          "shell.execute_reply": "2021-01-18T05:19:45.904184Z"
        },
        "papermill": {
          "duration": 0.025257,
          "end_time": "2021-01-18T05:19:45.904361",
          "exception": false,
          "start_time": "2021-01-18T05:19:45.879104",
          "status": "completed"
        },
        "tags": [],
        "id": "uKsFbYbee2xZ"
      },
      "outputs": [],
      "source": [
        "x_train, x_test, y_train, y_test = train_test_split(x, y , test_size=0.33, random_state=42)"
      ]
    },
    {
      "cell_type": "code",
      "execution_count": null,
      "metadata": {
        "execution": {
          "iopub.execute_input": "2021-01-18T05:19:45.940897Z",
          "iopub.status.busy": "2021-01-18T05:19:45.940103Z",
          "iopub.status.idle": "2021-01-18T05:19:45.955108Z",
          "shell.execute_reply": "2021-01-18T05:19:45.954500Z"
        },
        "papermill": {
          "duration": 0.034502,
          "end_time": "2021-01-18T05:19:45.955232",
          "exception": false,
          "start_time": "2021-01-18T05:19:45.920730",
          "status": "completed"
        },
        "tags": [],
        "id": "-Qr-legoe2xa"
      },
      "outputs": [],
      "source": [
        "model = LinearRegression().fit(x_train, y_train)"
      ]
    },
    {
      "cell_type": "code",
      "execution_count": null,
      "metadata": {
        "execution": {
          "iopub.execute_input": "2021-01-18T05:19:45.991487Z",
          "iopub.status.busy": "2021-01-18T05:19:45.990696Z",
          "iopub.status.idle": "2021-01-18T05:19:45.996265Z",
          "shell.execute_reply": "2021-01-18T05:19:45.996722Z"
        },
        "papermill": {
          "duration": 0.025299,
          "end_time": "2021-01-18T05:19:45.996911",
          "exception": false,
          "start_time": "2021-01-18T05:19:45.971612",
          "status": "completed"
        },
        "tags": [],
        "id": "Fs1_zNj8e2xb",
        "outputId": "edef493c-53a4-4737-de45-6ed75eb25479"
      },
      "outputs": [
        {
          "data": {
            "text/plain": [
              "0.8870726295495153"
            ]
          },
          "execution_count": 19,
          "metadata": {},
          "output_type": "execute_result"
        }
      ],
      "source": [
        "model.score(x_test, y_test)"
      ]
    },
    {
      "cell_type": "code",
      "execution_count": null,
      "metadata": {
        "execution": {
          "iopub.execute_input": "2021-01-18T05:19:46.036197Z",
          "iopub.status.busy": "2021-01-18T05:19:46.035496Z",
          "iopub.status.idle": "2021-01-18T05:19:46.039850Z",
          "shell.execute_reply": "2021-01-18T05:19:46.040515Z"
        },
        "papermill": {
          "duration": 0.026062,
          "end_time": "2021-01-18T05:19:46.040698",
          "exception": false,
          "start_time": "2021-01-18T05:19:46.014636",
          "status": "completed"
        },
        "tags": [],
        "id": "KCUCeNN4e2xc"
      },
      "outputs": [],
      "source": [
        "y_pred = model.predict(x_test)"
      ]
    },
    {
      "cell_type": "code",
      "execution_count": null,
      "metadata": {
        "execution": {
          "iopub.execute_input": "2021-01-18T05:19:46.105501Z",
          "iopub.status.busy": "2021-01-18T05:19:46.103312Z",
          "iopub.status.idle": "2021-01-18T05:19:46.273492Z",
          "shell.execute_reply": "2021-01-18T05:19:46.272833Z"
        },
        "papermill": {
          "duration": 0.206649,
          "end_time": "2021-01-18T05:19:46.273622",
          "exception": false,
          "start_time": "2021-01-18T05:19:46.066973",
          "status": "completed"
        },
        "tags": [],
        "id": "XSzEJmBGe2xd",
        "outputId": "f16b11b6-7b36-440d-8756-9842c4a2d8ff"
      },
      "outputs": [
        {
          "data": {
            "text/plain": [
              "[<matplotlib.lines.Line2D at 0x7f5d7a6053d0>]"
            ]
          },
          "execution_count": 21,
          "metadata": {},
          "output_type": "execute_result"
        },
        {
          "data": {
            "image/png": "[encoded data removed]",
            "text/plain": [
              "<Figure size 432x288 with 1 Axes>"
            ]
          },
          "metadata": {
            "needs_background": "light"
          },
          "output_type": "display_data"
        }
      ],
      "source": [
        "plt.scatter(x=x_train, y=y_train)\n",
        "plt.plot(x_test, y_pred, color=\"green\")"
      ]
    },
    {
      "cell_type": "code",
      "execution_count": null,
      "metadata": {
        "papermill": {
          "duration": 0.017455,
          "end_time": "2021-01-18T05:19:46.308915",
          "exception": false,
          "start_time": "2021-01-18T05:19:46.291460",
          "status": "completed"
        },
        "tags": [],
        "id": "hqPlSwGde2xf"
      },
      "outputs": [],
      "source": []
    }
  ],
  "metadata": {
    "kernelspec": {
      "display_name": "Python 3",
      "language": "python",
      "name": "python3"
    },
    "language_info": {
      "codemirror_mode": {
        "name": "ipython",
        "version": 3
      },
      "file_extension": ".py",
      "mimetype": "text/x-python",
      "name": "python",
      "nbconvert_exporter": "python",
      "pygments_lexer": "ipython3",
      "version": "3.7.6"
    },
    "papermill": {
      "duration": 8.279694,
      "end_time": "2021-01-18T05:19:46.434718",
      "environment_variables": {},
      "exception": null,
      "input_path": "__notebook__.ipynb",
      "output_path": "__notebook__.ipynb",
      "parameters": {},
      "start_time": "2021-01-18T05:19:38.155024",
      "version": "2.1.0"
    },
    "colab": {
      "provenance": [],
      "include_colab_link": true
    }
  },
  "nbformat": 4,
  "nbformat_minor": 0
}