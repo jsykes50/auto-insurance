{
  "cells": [
    {
      "cell_type": "markdown",
      "metadata": {
        "id": "view-in-github",
        "colab_type": "text"
      },
      "source": [
        "<a href=\"https://colab.research.google.com/github/jsykes50/auto-insurance/blob/main/Auto_Insurance_Project.ipynb\" target=\"_parent\"><img src=\"https://colab.research.google.com/assets/colab-badge.svg\" alt=\"Open In Colab\"/></a>"
      ]
    },
    {
      "cell_type": "markdown",
      "metadata": {
        "id": "ZjW9nDJ1-enj"
      },
      "source": [
        "# Exploratory Data Analysis on Automobile Insurance Data Set\n",
        "\n",
        "The project aims at performing exploratory data analysis on the automobile Insurance Dataset which was obtained from Kaggle, world's largest data science community. The Dataset contains the information about the policies undertaken by the different person across various cities and states. The Dataset also contains information about the various claims made against different accidents which involved 1 or more vehicles at the same time.\n",
        "\n",
        "![](https://imgur.com/UOSHpwq.png)\n",
        "![](https://imgur.com/sRTNnMN.png)\n",
        "\n",
        "The various steps involved in the project are mentioned as a separate section and are explained as and when they are carried out. The following topics are covered in the project:\n",
        "\n",
        "- Selecting and downloading a dataset\n",
        "- Data preparation and cleaning\n",
        "- Exploratory analysis and visualization\n",
        "- Asking and answering interesting questions\n",
        "- Summarizing inferences and drawing conclusions\n",
        "\n",
        "A Big Thanks to the course 'Data Analysis with Python: Zero to Pandas' without which this project wouldn't be possible. The course explains the nitty gritties of python in a precise manner. The course has been designed in a very structured format and helps even those who don't have any coding background."
      ]
    },
    {
      "cell_type": "markdown",
      "metadata": {
        "id": "YXGjrQCv-enp"
      },
      "source": [
        "## SECTION A: LOADING THE DATA SET\n",
        "\n",
        "In this section, we will first begin with downloading the dataset from the kaggle and loading into the jupyter file.\n",
        "> Link for downloading the dataset: https://www.kaggle.com/aashishjhamtani/automobile-insurance"
      ]
    },
    {
      "cell_type": "code",
      "execution_count": null,
      "metadata": {
        "id": "xord-UoY-enr"
      },
      "outputs": [],
      "source": [
        "!pip install jovian opendatasets --upgrade --quiet"
      ]
    },
    {
      "cell_type": "code",
      "execution_count": null,
      "metadata": {
        "id": "Gioe-3vF-enu"
      },
      "outputs": [],
      "source": [
        "import pandas as pd\n",
        "import numpy as np\n",
        "import seaborn as sns\n",
        "import matplotlib\n",
        "import matplotlib.pyplot as plt\n",
        "%matplotlib inline\n",
        "from urllib.request import urlretrieve"
      ]
    },
    {
      "cell_type": "code",
      "execution_count": null,
      "metadata": {
        "id": "iNiqFpdG-env",
        "outputId": "9528a8e3-1f8c-4577-b50f-c5186e34b70f"
      },
      "outputs": [
        {
          "data": {
            "text/html": [
              "<div>\n",
              "<style scoped>\n",
              "    .dataframe tbody tr th:only-of-type {\n",
              "        vertical-align: middle;\n",
              "    }\n",
              "\n",
              "    .dataframe tbody tr th {\n",
              "        vertical-align: top;\n",
              "    }\n",
              "\n",
              "    .dataframe thead th {\n",
              "        text-align: right;\n",
              "    }\n",
              "</style>\n",
              "<table border=\"1\" class=\"dataframe\">\n",
              "  <thead>\n",
              "    <tr style=\"text-align: right;\">\n",
              "      <th></th>\n",
              "      <th>months_as_customer</th>\n",
              "      <th>age</th>\n",
              "      <th>policy_number</th>\n",
              "      <th>policy_bind_date</th>\n",
              "      <th>policy_state</th>\n",
              "      <th>policy_csl</th>\n",
              "      <th>policy_deductable</th>\n",
              "      <th>policy_annual_premium</th>\n",
              "      <th>umbrella_limit</th>\n",
              "      <th>insured_zip</th>\n",
              "      <th>...</th>\n",
              "      <th>police_report_available</th>\n",
              "      <th>total_claim_amount</th>\n",
              "      <th>injury_claim</th>\n",
              "      <th>property_claim</th>\n",
              "      <th>vehicle_claim</th>\n",
              "      <th>auto_make</th>\n",
              "      <th>auto_model</th>\n",
              "      <th>auto_year</th>\n",
              "      <th>fraud_reported</th>\n",
              "      <th>_c39</th>\n",
              "    </tr>\n",
              "  </thead>\n",
              "  <tbody>\n",
              "    <tr>\n",
              "      <th>0</th>\n",
              "      <td>328</td>\n",
              "      <td>48</td>\n",
              "      <td>521585</td>\n",
              "      <td>2014-10-17</td>\n",
              "      <td>OH</td>\n",
              "      <td>250/500</td>\n",
              "      <td>1000</td>\n",
              "      <td>1406.91</td>\n",
              "      <td>0</td>\n",
              "      <td>466132</td>\n",
              "      <td>...</td>\n",
              "      <td>YES</td>\n",
              "      <td>71610</td>\n",
              "      <td>6510</td>\n",
              "      <td>13020</td>\n",
              "      <td>52080</td>\n",
              "      <td>Saab</td>\n",
              "      <td>92x</td>\n",
              "      <td>2004</td>\n",
              "      <td>Y</td>\n",
              "      <td>NaN</td>\n",
              "    </tr>\n",
              "    <tr>\n",
              "      <th>1</th>\n",
              "      <td>228</td>\n",
              "      <td>42</td>\n",
              "      <td>342868</td>\n",
              "      <td>2006-06-27</td>\n",
              "      <td>IN</td>\n",
              "      <td>250/500</td>\n",
              "      <td>2000</td>\n",
              "      <td>1197.22</td>\n",
              "      <td>5000000</td>\n",
              "      <td>468176</td>\n",
              "      <td>...</td>\n",
              "      <td>?</td>\n",
              "      <td>5070</td>\n",
              "      <td>780</td>\n",
              "      <td>780</td>\n",
              "      <td>3510</td>\n",
              "      <td>Mercedes</td>\n",
              "      <td>E400</td>\n",
              "      <td>2007</td>\n",
              "      <td>Y</td>\n",
              "      <td>NaN</td>\n",
              "    </tr>\n",
              "    <tr>\n",
              "      <th>2</th>\n",
              "      <td>134</td>\n",
              "      <td>29</td>\n",
              "      <td>687698</td>\n",
              "      <td>2000-09-06</td>\n",
              "      <td>OH</td>\n",
              "      <td>100/300</td>\n",
              "      <td>2000</td>\n",
              "      <td>1413.14</td>\n",
              "      <td>5000000</td>\n",
              "      <td>430632</td>\n",
              "      <td>...</td>\n",
              "      <td>NO</td>\n",
              "      <td>34650</td>\n",
              "      <td>7700</td>\n",
              "      <td>3850</td>\n",
              "      <td>23100</td>\n",
              "      <td>Dodge</td>\n",
              "      <td>RAM</td>\n",
              "      <td>2007</td>\n",
              "      <td>N</td>\n",
              "      <td>NaN</td>\n",
              "    </tr>\n",
              "    <tr>\n",
              "      <th>3</th>\n",
              "      <td>256</td>\n",
              "      <td>41</td>\n",
              "      <td>227811</td>\n",
              "      <td>1990-05-25</td>\n",
              "      <td>IL</td>\n",
              "      <td>250/500</td>\n",
              "      <td>2000</td>\n",
              "      <td>1415.74</td>\n",
              "      <td>6000000</td>\n",
              "      <td>608117</td>\n",
              "      <td>...</td>\n",
              "      <td>NO</td>\n",
              "      <td>63400</td>\n",
              "      <td>6340</td>\n",
              "      <td>6340</td>\n",
              "      <td>50720</td>\n",
              "      <td>Chevrolet</td>\n",
              "      <td>Tahoe</td>\n",
              "      <td>2014</td>\n",
              "      <td>Y</td>\n",
              "      <td>NaN</td>\n",
              "    </tr>\n",
              "    <tr>\n",
              "      <th>4</th>\n",
              "      <td>228</td>\n",
              "      <td>44</td>\n",
              "      <td>367455</td>\n",
              "      <td>2014-06-06</td>\n",
              "      <td>IL</td>\n",
              "      <td>500/1000</td>\n",
              "      <td>1000</td>\n",
              "      <td>1583.91</td>\n",
              "      <td>6000000</td>\n",
              "      <td>610706</td>\n",
              "      <td>...</td>\n",
              "      <td>NO</td>\n",
              "      <td>6500</td>\n",
              "      <td>1300</td>\n",
              "      <td>650</td>\n",
              "      <td>4550</td>\n",
              "      <td>Accura</td>\n",
              "      <td>RSX</td>\n",
              "      <td>2009</td>\n",
              "      <td>N</td>\n",
              "      <td>NaN</td>\n",
              "    </tr>\n",
              "    <tr>\n",
              "      <th>...</th>\n",
              "      <td>...</td>\n",
              "      <td>...</td>\n",
              "      <td>...</td>\n",
              "      <td>...</td>\n",
              "      <td>...</td>\n",
              "      <td>...</td>\n",
              "      <td>...</td>\n",
              "      <td>...</td>\n",
              "      <td>...</td>\n",
              "      <td>...</td>\n",
              "      <td>...</td>\n",
              "      <td>...</td>\n",
              "      <td>...</td>\n",
              "      <td>...</td>\n",
              "      <td>...</td>\n",
              "      <td>...</td>\n",
              "      <td>...</td>\n",
              "      <td>...</td>\n",
              "      <td>...</td>\n",
              "      <td>...</td>\n",
              "      <td>...</td>\n",
              "    </tr>\n",
              "    <tr>\n",
              "      <th>995</th>\n",
              "      <td>3</td>\n",
              "      <td>38</td>\n",
              "      <td>941851</td>\n",
              "      <td>1991-07-16</td>\n",
              "      <td>OH</td>\n",
              "      <td>500/1000</td>\n",
              "      <td>1000</td>\n",
              "      <td>1310.80</td>\n",
              "      <td>0</td>\n",
              "      <td>431289</td>\n",
              "      <td>...</td>\n",
              "      <td>?</td>\n",
              "      <td>87200</td>\n",
              "      <td>17440</td>\n",
              "      <td>8720</td>\n",
              "      <td>61040</td>\n",
              "      <td>Honda</td>\n",
              "      <td>Accord</td>\n",
              "      <td>2006</td>\n",
              "      <td>N</td>\n",
              "      <td>NaN</td>\n",
              "    </tr>\n",
              "    <tr>\n",
              "      <th>996</th>\n",
              "      <td>285</td>\n",
              "      <td>41</td>\n",
              "      <td>186934</td>\n",
              "      <td>2014-01-05</td>\n",
              "      <td>IL</td>\n",
              "      <td>100/300</td>\n",
              "      <td>1000</td>\n",
              "      <td>1436.79</td>\n",
              "      <td>0</td>\n",
              "      <td>608177</td>\n",
              "      <td>...</td>\n",
              "      <td>?</td>\n",
              "      <td>108480</td>\n",
              "      <td>18080</td>\n",
              "      <td>18080</td>\n",
              "      <td>72320</td>\n",
              "      <td>Volkswagen</td>\n",
              "      <td>Passat</td>\n",
              "      <td>2015</td>\n",
              "      <td>N</td>\n",
              "      <td>NaN</td>\n",
              "    </tr>\n",
              "    <tr>\n",
              "      <th>997</th>\n",
              "      <td>130</td>\n",
              "      <td>34</td>\n",
              "      <td>918516</td>\n",
              "      <td>2003-02-17</td>\n",
              "      <td>OH</td>\n",
              "      <td>250/500</td>\n",
              "      <td>500</td>\n",
              "      <td>1383.49</td>\n",
              "      <td>3000000</td>\n",
              "      <td>442797</td>\n",
              "      <td>...</td>\n",
              "      <td>YES</td>\n",
              "      <td>67500</td>\n",
              "      <td>7500</td>\n",
              "      <td>7500</td>\n",
              "      <td>52500</td>\n",
              "      <td>Suburu</td>\n",
              "      <td>Impreza</td>\n",
              "      <td>1996</td>\n",
              "      <td>N</td>\n",
              "      <td>NaN</td>\n",
              "    </tr>\n",
              "    <tr>\n",
              "      <th>998</th>\n",
              "      <td>458</td>\n",
              "      <td>62</td>\n",
              "      <td>533940</td>\n",
              "      <td>2011-11-18</td>\n",
              "      <td>IL</td>\n",
              "      <td>500/1000</td>\n",
              "      <td>2000</td>\n",
              "      <td>1356.92</td>\n",
              "      <td>5000000</td>\n",
              "      <td>441714</td>\n",
              "      <td>...</td>\n",
              "      <td>YES</td>\n",
              "      <td>46980</td>\n",
              "      <td>5220</td>\n",
              "      <td>5220</td>\n",
              "      <td>36540</td>\n",
              "      <td>Audi</td>\n",
              "      <td>A5</td>\n",
              "      <td>1998</td>\n",
              "      <td>N</td>\n",
              "      <td>NaN</td>\n",
              "    </tr>\n",
              "    <tr>\n",
              "      <th>999</th>\n",
              "      <td>456</td>\n",
              "      <td>60</td>\n",
              "      <td>556080</td>\n",
              "      <td>1996-11-11</td>\n",
              "      <td>OH</td>\n",
              "      <td>250/500</td>\n",
              "      <td>1000</td>\n",
              "      <td>766.19</td>\n",
              "      <td>0</td>\n",
              "      <td>612260</td>\n",
              "      <td>...</td>\n",
              "      <td>?</td>\n",
              "      <td>5060</td>\n",
              "      <td>460</td>\n",
              "      <td>920</td>\n",
              "      <td>3680</td>\n",
              "      <td>Mercedes</td>\n",
              "      <td>E400</td>\n",
              "      <td>2007</td>\n",
              "      <td>N</td>\n",
              "      <td>NaN</td>\n",
              "    </tr>\n",
              "  </tbody>\n",
              "</table>\n",
              "<p>1000 rows × 40 columns</p>\n",
              "</div>"
            ],
            "text/plain": [
              "     months_as_customer  age  policy_number policy_bind_date policy_state  \\\n",
              "0                   328   48         521585       2014-10-17           OH   \n",
              "1                   228   42         342868       2006-06-27           IN   \n",
              "2                   134   29         687698       2000-09-06           OH   \n",
              "3                   256   41         227811       1990-05-25           IL   \n",
              "4                   228   44         367455       2014-06-06           IL   \n",
              "..                  ...  ...            ...              ...          ...   \n",
              "995                   3   38         941851       1991-07-16           OH   \n",
              "996                 285   41         186934       2014-01-05           IL   \n",
              "997                 130   34         918516       2003-02-17           OH   \n",
              "998                 458   62         533940       2011-11-18           IL   \n",
              "999                 456   60         556080       1996-11-11           OH   \n",
              "\n",
              "    policy_csl  policy_deductable  policy_annual_premium  umbrella_limit  \\\n",
              "0      250/500               1000                1406.91               0   \n",
              "1      250/500               2000                1197.22         5000000   \n",
              "2      100/300               2000                1413.14         5000000   \n",
              "3      250/500               2000                1415.74         6000000   \n",
              "4     500/1000               1000                1583.91         6000000   \n",
              "..         ...                ...                    ...             ...   \n",
              "995   500/1000               1000                1310.80               0   \n",
              "996    100/300               1000                1436.79               0   \n",
              "997    250/500                500                1383.49         3000000   \n",
              "998   500/1000               2000                1356.92         5000000   \n",
              "999    250/500               1000                 766.19               0   \n",
              "\n",
              "     insured_zip  ... police_report_available total_claim_amount injury_claim  \\\n",
              "0         466132  ...                     YES              71610         6510   \n",
              "1         468176  ...                       ?               5070          780   \n",
              "2         430632  ...                      NO              34650         7700   \n",
              "3         608117  ...                      NO              63400         6340   \n",
              "4         610706  ...                      NO               6500         1300   \n",
              "..           ...  ...                     ...                ...          ...   \n",
              "995       431289  ...                       ?              87200        17440   \n",
              "996       608177  ...                       ?             108480        18080   \n",
              "997       442797  ...                     YES              67500         7500   \n",
              "998       441714  ...                     YES              46980         5220   \n",
              "999       612260  ...                       ?               5060          460   \n",
              "\n",
              "    property_claim vehicle_claim   auto_make  auto_model auto_year  \\\n",
              "0            13020         52080        Saab         92x      2004   \n",
              "1              780          3510    Mercedes        E400      2007   \n",
              "2             3850         23100       Dodge         RAM      2007   \n",
              "3             6340         50720   Chevrolet       Tahoe      2014   \n",
              "4              650          4550      Accura         RSX      2009   \n",
              "..             ...           ...         ...         ...       ...   \n",
              "995           8720         61040       Honda      Accord      2006   \n",
              "996          18080         72320  Volkswagen      Passat      2015   \n",
              "997           7500         52500      Suburu     Impreza      1996   \n",
              "998           5220         36540        Audi          A5      1998   \n",
              "999            920          3680    Mercedes        E400      2007   \n",
              "\n",
              "    fraud_reported _c39  \n",
              "0                Y  NaN  \n",
              "1                Y  NaN  \n",
              "2                N  NaN  \n",
              "3                Y  NaN  \n",
              "4                N  NaN  \n",
              "..             ...  ...  \n",
              "995              N  NaN  \n",
              "996              N  NaN  \n",
              "997              N  NaN  \n",
              "998              N  NaN  \n",
              "999              N  NaN  \n",
              "\n",
              "[1000 rows x 40 columns]"
            ]
          },
          "execution_count": 3,
          "metadata": {},
          "output_type": "execute_result"
        }
      ],
      "source": [
        "insurance_claims_raw = pd.read_csv('insurance_claims.csv')\n",
        "insurance_claims_raw"
      ]
    },
    {
      "cell_type": "markdown",
      "metadata": {
        "id": "caEc2wkY-eny"
      },
      "source": [
        "The dataset has been downloaded and extracted."
      ]
    },
    {
      "cell_type": "code",
      "execution_count": null,
      "metadata": {
        "id": "FZXQWDag-enz"
      },
      "outputs": [],
      "source": [
        "project_name = \"exploratory data analysis on automobile insurance data set\""
      ]
    },
    {
      "cell_type": "code",
      "execution_count": null,
      "metadata": {
        "id": "GZVp78zn-en0"
      },
      "outputs": [],
      "source": [
        "!pip install jovian --upgrade -q"
      ]
    },
    {
      "cell_type": "code",
      "execution_count": null,
      "metadata": {
        "id": "QYKT0JYW-en0"
      },
      "outputs": [],
      "source": [
        "import jovian"
      ]
    },
    {
      "cell_type": "code",
      "execution_count": null,
      "metadata": {
        "id": "Xt1qxWgu-en2",
        "outputId": "903e431e-7e6b-4360-aeb8-12e098afe44d"
      },
      "outputs": [
        {
          "data": {
            "application/javascript": [
              "window.require && require([\"base/js/namespace\"],function(Jupyter){Jupyter.notebook.save_checkpoint()})"
            ],
            "text/plain": [
              "<IPython.core.display.Javascript object>"
            ]
          },
          "metadata": {},
          "output_type": "display_data"
        },
        {
          "name": "stdout",
          "output_type": "stream",
          "text": [
            "[jovian] Attempting to save notebook..\n",
            "[jovian] Updating notebook \"paritosh-b20/exploratory-data-analysis-on-automobile-insurance-data-set\" on https://jovian.ai/\n",
            "[jovian] Uploading notebook..\n",
            "[jovian] Capturing environment..\n",
            "[jovian] Committed successfully! https://jovian.ai/paritosh-b20/exploratory-data-analysis-on-automobile-insurance-data-set\n"
          ]
        },
        {
          "data": {
            "text/plain": [
              "'https://jovian.ai/paritosh-b20/exploratory-data-analysis-on-automobile-insurance-data-set'"
            ]
          },
          "execution_count": 7,
          "metadata": {},
          "output_type": "execute_result"
        }
      ],
      "source": [
        "jovian.commit(project=project_name)"
      ]
    },
    {
      "cell_type": "markdown",
      "metadata": {
        "id": "BVVQaFmz-en4"
      },
      "source": [
        "## SECTION 2: DATA PREPARATION & CLEANING"
      ]
    },
    {
      "cell_type": "code",
      "execution_count": null,
      "metadata": {
        "id": "BxIqpW09-en5",
        "outputId": "626f0410-edca-48dc-98d6-c8fb1e28cd26"
      },
      "outputs": [
        {
          "data": {
            "text/html": [
              "<div>\n",
              "<style scoped>\n",
              "    .dataframe tbody tr th:only-of-type {\n",
              "        vertical-align: middle;\n",
              "    }\n",
              "\n",
              "    .dataframe tbody tr th {\n",
              "        vertical-align: top;\n",
              "    }\n",
              "\n",
              "    .dataframe thead th {\n",
              "        text-align: right;\n",
              "    }\n",
              "</style>\n",
              "<table border=\"1\" class=\"dataframe\">\n",
              "  <thead>\n",
              "    <tr style=\"text-align: right;\">\n",
              "      <th></th>\n",
              "      <th>months_as_customer</th>\n",
              "      <th>age</th>\n",
              "      <th>policy_number</th>\n",
              "      <th>policy_bind_date</th>\n",
              "      <th>policy_state</th>\n",
              "      <th>policy_csl</th>\n",
              "      <th>policy_deductable</th>\n",
              "      <th>policy_annual_premium</th>\n",
              "      <th>umbrella_limit</th>\n",
              "      <th>insured_zip</th>\n",
              "      <th>...</th>\n",
              "      <th>police_report_available</th>\n",
              "      <th>total_claim_amount</th>\n",
              "      <th>injury_claim</th>\n",
              "      <th>property_claim</th>\n",
              "      <th>vehicle_claim</th>\n",
              "      <th>auto_make</th>\n",
              "      <th>auto_model</th>\n",
              "      <th>auto_year</th>\n",
              "      <th>fraud_reported</th>\n",
              "      <th>_c39</th>\n",
              "    </tr>\n",
              "  </thead>\n",
              "  <tbody>\n",
              "    <tr>\n",
              "      <th>0</th>\n",
              "      <td>328</td>\n",
              "      <td>48</td>\n",
              "      <td>521585</td>\n",
              "      <td>2014-10-17</td>\n",
              "      <td>OH</td>\n",
              "      <td>250/500</td>\n",
              "      <td>1000</td>\n",
              "      <td>1406.91</td>\n",
              "      <td>0</td>\n",
              "      <td>466132</td>\n",
              "      <td>...</td>\n",
              "      <td>YES</td>\n",
              "      <td>71610</td>\n",
              "      <td>6510</td>\n",
              "      <td>13020</td>\n",
              "      <td>52080</td>\n",
              "      <td>Saab</td>\n",
              "      <td>92x</td>\n",
              "      <td>2004</td>\n",
              "      <td>Y</td>\n",
              "      <td>NaN</td>\n",
              "    </tr>\n",
              "    <tr>\n",
              "      <th>1</th>\n",
              "      <td>228</td>\n",
              "      <td>42</td>\n",
              "      <td>342868</td>\n",
              "      <td>2006-06-27</td>\n",
              "      <td>IN</td>\n",
              "      <td>250/500</td>\n",
              "      <td>2000</td>\n",
              "      <td>1197.22</td>\n",
              "      <td>5000000</td>\n",
              "      <td>468176</td>\n",
              "      <td>...</td>\n",
              "      <td>?</td>\n",
              "      <td>5070</td>\n",
              "      <td>780</td>\n",
              "      <td>780</td>\n",
              "      <td>3510</td>\n",
              "      <td>Mercedes</td>\n",
              "      <td>E400</td>\n",
              "      <td>2007</td>\n",
              "      <td>Y</td>\n",
              "      <td>NaN</td>\n",
              "    </tr>\n",
              "    <tr>\n",
              "      <th>2</th>\n",
              "      <td>134</td>\n",
              "      <td>29</td>\n",
              "      <td>687698</td>\n",
              "      <td>2000-09-06</td>\n",
              "      <td>OH</td>\n",
              "      <td>100/300</td>\n",
              "      <td>2000</td>\n",
              "      <td>1413.14</td>\n",
              "      <td>5000000</td>\n",
              "      <td>430632</td>\n",
              "      <td>...</td>\n",
              "      <td>NO</td>\n",
              "      <td>34650</td>\n",
              "      <td>7700</td>\n",
              "      <td>3850</td>\n",
              "      <td>23100</td>\n",
              "      <td>Dodge</td>\n",
              "      <td>RAM</td>\n",
              "      <td>2007</td>\n",
              "      <td>N</td>\n",
              "      <td>NaN</td>\n",
              "    </tr>\n",
              "    <tr>\n",
              "      <th>3</th>\n",
              "      <td>256</td>\n",
              "      <td>41</td>\n",
              "      <td>227811</td>\n",
              "      <td>1990-05-25</td>\n",
              "      <td>IL</td>\n",
              "      <td>250/500</td>\n",
              "      <td>2000</td>\n",
              "      <td>1415.74</td>\n",
              "      <td>6000000</td>\n",
              "      <td>608117</td>\n",
              "      <td>...</td>\n",
              "      <td>NO</td>\n",
              "      <td>63400</td>\n",
              "      <td>6340</td>\n",
              "      <td>6340</td>\n",
              "      <td>50720</td>\n",
              "      <td>Chevrolet</td>\n",
              "      <td>Tahoe</td>\n",
              "      <td>2014</td>\n",
              "      <td>Y</td>\n",
              "      <td>NaN</td>\n",
              "    </tr>\n",
              "    <tr>\n",
              "      <th>4</th>\n",
              "      <td>228</td>\n",
              "      <td>44</td>\n",
              "      <td>367455</td>\n",
              "      <td>2014-06-06</td>\n",
              "      <td>IL</td>\n",
              "      <td>500/1000</td>\n",
              "      <td>1000</td>\n",
              "      <td>1583.91</td>\n",
              "      <td>6000000</td>\n",
              "      <td>610706</td>\n",
              "      <td>...</td>\n",
              "      <td>NO</td>\n",
              "      <td>6500</td>\n",
              "      <td>1300</td>\n",
              "      <td>650</td>\n",
              "      <td>4550</td>\n",
              "      <td>Accura</td>\n",
              "      <td>RSX</td>\n",
              "      <td>2009</td>\n",
              "      <td>N</td>\n",
              "      <td>NaN</td>\n",
              "    </tr>\n",
              "    <tr>\n",
              "      <th>...</th>\n",
              "      <td>...</td>\n",
              "      <td>...</td>\n",
              "      <td>...</td>\n",
              "      <td>...</td>\n",
              "      <td>...</td>\n",
              "      <td>...</td>\n",
              "      <td>...</td>\n",
              "      <td>...</td>\n",
              "      <td>...</td>\n",
              "      <td>...</td>\n",
              "      <td>...</td>\n",
              "      <td>...</td>\n",
              "      <td>...</td>\n",
              "      <td>...</td>\n",
              "      <td>...</td>\n",
              "      <td>...</td>\n",
              "      <td>...</td>\n",
              "      <td>...</td>\n",
              "      <td>...</td>\n",
              "      <td>...</td>\n",
              "      <td>...</td>\n",
              "    </tr>\n",
              "    <tr>\n",
              "      <th>995</th>\n",
              "      <td>3</td>\n",
              "      <td>38</td>\n",
              "      <td>941851</td>\n",
              "      <td>1991-07-16</td>\n",
              "      <td>OH</td>\n",
              "      <td>500/1000</td>\n",
              "      <td>1000</td>\n",
              "      <td>1310.80</td>\n",
              "      <td>0</td>\n",
              "      <td>431289</td>\n",
              "      <td>...</td>\n",
              "      <td>?</td>\n",
              "      <td>87200</td>\n",
              "      <td>17440</td>\n",
              "      <td>8720</td>\n",
              "      <td>61040</td>\n",
              "      <td>Honda</td>\n",
              "      <td>Accord</td>\n",
              "      <td>2006</td>\n",
              "      <td>N</td>\n",
              "      <td>NaN</td>\n",
              "    </tr>\n",
              "    <tr>\n",
              "      <th>996</th>\n",
              "      <td>285</td>\n",
              "      <td>41</td>\n",
              "      <td>186934</td>\n",
              "      <td>2014-01-05</td>\n",
              "      <td>IL</td>\n",
              "      <td>100/300</td>\n",
              "      <td>1000</td>\n",
              "      <td>1436.79</td>\n",
              "      <td>0</td>\n",
              "      <td>608177</td>\n",
              "      <td>...</td>\n",
              "      <td>?</td>\n",
              "      <td>108480</td>\n",
              "      <td>18080</td>\n",
              "      <td>18080</td>\n",
              "      <td>72320</td>\n",
              "      <td>Volkswagen</td>\n",
              "      <td>Passat</td>\n",
              "      <td>2015</td>\n",
              "      <td>N</td>\n",
              "      <td>NaN</td>\n",
              "    </tr>\n",
              "    <tr>\n",
              "      <th>997</th>\n",
              "      <td>130</td>\n",
              "      <td>34</td>\n",
              "      <td>918516</td>\n",
              "      <td>2003-02-17</td>\n",
              "      <td>OH</td>\n",
              "      <td>250/500</td>\n",
              "      <td>500</td>\n",
              "      <td>1383.49</td>\n",
              "      <td>3000000</td>\n",
              "      <td>442797</td>\n",
              "      <td>...</td>\n",
              "      <td>YES</td>\n",
              "      <td>67500</td>\n",
              "      <td>7500</td>\n",
              "      <td>7500</td>\n",
              "      <td>52500</td>\n",
              "      <td>Suburu</td>\n",
              "      <td>Impreza</td>\n",
              "      <td>1996</td>\n",
              "      <td>N</td>\n",
              "      <td>NaN</td>\n",
              "    </tr>\n",
              "    <tr>\n",
              "      <th>998</th>\n",
              "      <td>458</td>\n",
              "      <td>62</td>\n",
              "      <td>533940</td>\n",
              "      <td>2011-11-18</td>\n",
              "      <td>IL</td>\n",
              "      <td>500/1000</td>\n",
              "      <td>2000</td>\n",
              "      <td>1356.92</td>\n",
              "      <td>5000000</td>\n",
              "      <td>441714</td>\n",
              "      <td>...</td>\n",
              "      <td>YES</td>\n",
              "      <td>46980</td>\n",
              "      <td>5220</td>\n",
              "      <td>5220</td>\n",
              "      <td>36540</td>\n",
              "      <td>Audi</td>\n",
              "      <td>A5</td>\n",
              "      <td>1998</td>\n",
              "      <td>N</td>\n",
              "      <td>NaN</td>\n",
              "    </tr>\n",
              "    <tr>\n",
              "      <th>999</th>\n",
              "      <td>456</td>\n",
              "      <td>60</td>\n",
              "      <td>556080</td>\n",
              "      <td>1996-11-11</td>\n",
              "      <td>OH</td>\n",
              "      <td>250/500</td>\n",
              "      <td>1000</td>\n",
              "      <td>766.19</td>\n",
              "      <td>0</td>\n",
              "      <td>612260</td>\n",
              "      <td>...</td>\n",
              "      <td>?</td>\n",
              "      <td>5060</td>\n",
              "      <td>460</td>\n",
              "      <td>920</td>\n",
              "      <td>3680</td>\n",
              "      <td>Mercedes</td>\n",
              "      <td>E400</td>\n",
              "      <td>2007</td>\n",
              "      <td>N</td>\n",
              "      <td>NaN</td>\n",
              "    </tr>\n",
              "  </tbody>\n",
              "</table>\n",
              "<p>1000 rows × 40 columns</p>\n",
              "</div>"
            ],
            "text/plain": [
              "     months_as_customer  age  policy_number policy_bind_date policy_state  \\\n",
              "0                   328   48         521585       2014-10-17           OH   \n",
              "1                   228   42         342868       2006-06-27           IN   \n",
              "2                   134   29         687698       2000-09-06           OH   \n",
              "3                   256   41         227811       1990-05-25           IL   \n",
              "4                   228   44         367455       2014-06-06           IL   \n",
              "..                  ...  ...            ...              ...          ...   \n",
              "995                   3   38         941851       1991-07-16           OH   \n",
              "996                 285   41         186934       2014-01-05           IL   \n",
              "997                 130   34         918516       2003-02-17           OH   \n",
              "998                 458   62         533940       2011-11-18           IL   \n",
              "999                 456   60         556080       1996-11-11           OH   \n",
              "\n",
              "    policy_csl  policy_deductable  policy_annual_premium  umbrella_limit  \\\n",
              "0      250/500               1000                1406.91               0   \n",
              "1      250/500               2000                1197.22         5000000   \n",
              "2      100/300               2000                1413.14         5000000   \n",
              "3      250/500               2000                1415.74         6000000   \n",
              "4     500/1000               1000                1583.91         6000000   \n",
              "..         ...                ...                    ...             ...   \n",
              "995   500/1000               1000                1310.80               0   \n",
              "996    100/300               1000                1436.79               0   \n",
              "997    250/500                500                1383.49         3000000   \n",
              "998   500/1000               2000                1356.92         5000000   \n",
              "999    250/500               1000                 766.19               0   \n",
              "\n",
              "     insured_zip  ... police_report_available total_claim_amount injury_claim  \\\n",
              "0         466132  ...                     YES              71610         6510   \n",
              "1         468176  ...                       ?               5070          780   \n",
              "2         430632  ...                      NO              34650         7700   \n",
              "3         608117  ...                      NO              63400         6340   \n",
              "4         610706  ...                      NO               6500         1300   \n",
              "..           ...  ...                     ...                ...          ...   \n",
              "995       431289  ...                       ?              87200        17440   \n",
              "996       608177  ...                       ?             108480        18080   \n",
              "997       442797  ...                     YES              67500         7500   \n",
              "998       441714  ...                     YES              46980         5220   \n",
              "999       612260  ...                       ?               5060          460   \n",
              "\n",
              "    property_claim vehicle_claim   auto_make  auto_model auto_year  \\\n",
              "0            13020         52080        Saab         92x      2004   \n",
              "1              780          3510    Mercedes        E400      2007   \n",
              "2             3850         23100       Dodge         RAM      2007   \n",
              "3             6340         50720   Chevrolet       Tahoe      2014   \n",
              "4              650          4550      Accura         RSX      2009   \n",
              "..             ...           ...         ...         ...       ...   \n",
              "995           8720         61040       Honda      Accord      2006   \n",
              "996          18080         72320  Volkswagen      Passat      2015   \n",
              "997           7500         52500      Suburu     Impreza      1996   \n",
              "998           5220         36540        Audi          A5      1998   \n",
              "999            920          3680    Mercedes        E400      2007   \n",
              "\n",
              "    fraud_reported _c39  \n",
              "0                Y  NaN  \n",
              "1                Y  NaN  \n",
              "2                N  NaN  \n",
              "3                Y  NaN  \n",
              "4                N  NaN  \n",
              "..             ...  ...  \n",
              "995              N  NaN  \n",
              "996              N  NaN  \n",
              "997              N  NaN  \n",
              "998              N  NaN  \n",
              "999              N  NaN  \n",
              "\n",
              "[1000 rows x 40 columns]"
            ]
          },
          "execution_count": 8,
          "metadata": {},
          "output_type": "execute_result"
        }
      ],
      "source": [
        "insurance_claims_raw"
      ]
    },
    {
      "cell_type": "code",
      "execution_count": null,
      "metadata": {
        "id": "u1edPiMQ-en6",
        "outputId": "cfab5f9e-d330-4ace-d342-c368175dc519"
      },
      "outputs": [
        {
          "data": {
            "text/plain": [
              "(1000, 40)"
            ]
          },
          "execution_count": 9,
          "metadata": {},
          "output_type": "execute_result"
        }
      ],
      "source": [
        "insurance_claims_raw.shape"
      ]
    },
    {
      "cell_type": "code",
      "execution_count": null,
      "metadata": {
        "id": "F9qYu10s-en7",
        "outputId": "896095d7-8a1c-4ebb-a09d-12242fd69c0e"
      },
      "outputs": [
        {
          "name": "stdout",
          "output_type": "stream",
          "text": [
            "<class 'pandas.core.frame.DataFrame'>\n",
            "RangeIndex: 1000 entries, 0 to 999\n",
            "Data columns (total 40 columns):\n",
            " #   Column                       Non-Null Count  Dtype  \n",
            "---  ------                       --------------  -----  \n",
            " 0   months_as_customer           1000 non-null   int64  \n",
            " 1   age                          1000 non-null   int64  \n",
            " 2   policy_number                1000 non-null   int64  \n",
            " 3   policy_bind_date             1000 non-null   object \n",
            " 4   policy_state                 1000 non-null   object \n",
            " 5   policy_csl                   1000 non-null   object \n",
            " 6   policy_deductable            1000 non-null   int64  \n",
            " 7   policy_annual_premium        1000 non-null   float64\n",
            " 8   umbrella_limit               1000 non-null   int64  \n",
            " 9   insured_zip                  1000 non-null   int64  \n",
            " 10  insured_sex                  1000 non-null   object \n",
            " 11  insured_education_level      1000 non-null   object \n",
            " 12  insured_occupation           1000 non-null   object \n",
            " 13  insured_hobbies              1000 non-null   object \n",
            " 14  insured_relationship         1000 non-null   object \n",
            " 15  capital-gains                1000 non-null   int64  \n",
            " 16  capital-loss                 1000 non-null   int64  \n",
            " 17  incident_date                1000 non-null   object \n",
            " 18  incident_type                1000 non-null   object \n",
            " 19  collision_type               1000 non-null   object \n",
            " 20  incident_severity            1000 non-null   object \n",
            " 21  authorities_contacted        1000 non-null   object \n",
            " 22  incident_state               1000 non-null   object \n",
            " 23  incident_city                1000 non-null   object \n",
            " 24  incident_location            1000 non-null   object \n",
            " 25  incident_hour_of_the_day     1000 non-null   int64  \n",
            " 26  number_of_vehicles_involved  1000 non-null   int64  \n",
            " 27  property_damage              1000 non-null   object \n",
            " 28  bodily_injuries              1000 non-null   int64  \n",
            " 29  witnesses                    1000 non-null   int64  \n",
            " 30  police_report_available      1000 non-null   object \n",
            " 31  total_claim_amount           1000 non-null   int64  \n",
            " 32  injury_claim                 1000 non-null   int64  \n",
            " 33  property_claim               1000 non-null   int64  \n",
            " 34  vehicle_claim                1000 non-null   int64  \n",
            " 35  auto_make                    1000 non-null   object \n",
            " 36  auto_model                   1000 non-null   object \n",
            " 37  auto_year                    1000 non-null   int64  \n",
            " 38  fraud_reported               1000 non-null   object \n",
            " 39  _c39                         0 non-null      float64\n",
            "dtypes: float64(2), int64(17), object(21)\n",
            "memory usage: 312.6+ KB\n"
          ]
        }
      ],
      "source": [
        "insurance_claims_raw.info()"
      ]
    },
    {
      "cell_type": "code",
      "execution_count": null,
      "metadata": {
        "id": "lzpYGBtP-en8"
      },
      "outputs": [],
      "source": [
        "insurance_claims_raw.drop('_c39', inplace=True, axis=1)"
      ]
    },
    {
      "cell_type": "markdown",
      "metadata": {
        "id": "JL_2YEhB-en8"
      },
      "source": [
        "The Column 'c39' has no value in it, so it is safe to remove the column from the dataframe before we begin analyzing the data."
      ]
    },
    {
      "cell_type": "code",
      "execution_count": null,
      "metadata": {
        "id": "Mf94rA7w-en8",
        "outputId": "57257165-b035-4093-849f-f145af603681"
      },
      "outputs": [
        {
          "data": {
            "text/plain": [
              "(1000, 39)"
            ]
          },
          "execution_count": 12,
          "metadata": {},
          "output_type": "execute_result"
        }
      ],
      "source": [
        "insurance_claims_raw.shape"
      ]
    },
    {
      "cell_type": "code",
      "execution_count": null,
      "metadata": {
        "id": "VWt-mlUT-en9",
        "outputId": "dd805ea7-d1b3-455a-919c-52b367c93071"
      },
      "outputs": [
        {
          "data": {
            "text/html": [
              "<div>\n",
              "<style scoped>\n",
              "    .dataframe tbody tr th:only-of-type {\n",
              "        vertical-align: middle;\n",
              "    }\n",
              "\n",
              "    .dataframe tbody tr th {\n",
              "        vertical-align: top;\n",
              "    }\n",
              "\n",
              "    .dataframe thead th {\n",
              "        text-align: right;\n",
              "    }\n",
              "</style>\n",
              "<table border=\"1\" class=\"dataframe\">\n",
              "  <thead>\n",
              "    <tr style=\"text-align: right;\">\n",
              "      <th></th>\n",
              "      <th>police_report_available</th>\n",
              "      <th>collision_type</th>\n",
              "    </tr>\n",
              "  </thead>\n",
              "  <tbody>\n",
              "    <tr>\n",
              "      <th>0</th>\n",
              "      <td>YES</td>\n",
              "      <td>Side Collision</td>\n",
              "    </tr>\n",
              "    <tr>\n",
              "      <th>1</th>\n",
              "      <td>?</td>\n",
              "      <td>?</td>\n",
              "    </tr>\n",
              "    <tr>\n",
              "      <th>2</th>\n",
              "      <td>NO</td>\n",
              "      <td>Rear Collision</td>\n",
              "    </tr>\n",
              "    <tr>\n",
              "      <th>3</th>\n",
              "      <td>NO</td>\n",
              "      <td>Front Collision</td>\n",
              "    </tr>\n",
              "    <tr>\n",
              "      <th>4</th>\n",
              "      <td>NO</td>\n",
              "      <td>?</td>\n",
              "    </tr>\n",
              "    <tr>\n",
              "      <th>...</th>\n",
              "      <td>...</td>\n",
              "      <td>...</td>\n",
              "    </tr>\n",
              "    <tr>\n",
              "      <th>995</th>\n",
              "      <td>?</td>\n",
              "      <td>Front Collision</td>\n",
              "    </tr>\n",
              "    <tr>\n",
              "      <th>996</th>\n",
              "      <td>?</td>\n",
              "      <td>Rear Collision</td>\n",
              "    </tr>\n",
              "    <tr>\n",
              "      <th>997</th>\n",
              "      <td>YES</td>\n",
              "      <td>Side Collision</td>\n",
              "    </tr>\n",
              "    <tr>\n",
              "      <th>998</th>\n",
              "      <td>YES</td>\n",
              "      <td>Rear Collision</td>\n",
              "    </tr>\n",
              "    <tr>\n",
              "      <th>999</th>\n",
              "      <td>?</td>\n",
              "      <td>?</td>\n",
              "    </tr>\n",
              "  </tbody>\n",
              "</table>\n",
              "<p>1000 rows × 2 columns</p>\n",
              "</div>"
            ],
            "text/plain": [
              "    police_report_available   collision_type\n",
              "0                       YES   Side Collision\n",
              "1                         ?                ?\n",
              "2                        NO   Rear Collision\n",
              "3                        NO  Front Collision\n",
              "4                        NO                ?\n",
              "..                      ...              ...\n",
              "995                       ?  Front Collision\n",
              "996                       ?   Rear Collision\n",
              "997                     YES   Side Collision\n",
              "998                     YES   Rear Collision\n",
              "999                       ?                ?\n",
              "\n",
              "[1000 rows x 2 columns]"
            ]
          },
          "execution_count": 13,
          "metadata": {},
          "output_type": "execute_result"
        }
      ],
      "source": [
        "insurance_claims_raw[['police_report_available','collision_type']]"
      ]
    },
    {
      "cell_type": "markdown",
      "metadata": {
        "id": "fLnRnjUq-en-"
      },
      "source": [
        "The columns 'police_report_available' & 'collision_type' have some missing values and are represented as '?' so we will be replacing them with nan values."
      ]
    },
    {
      "cell_type": "code",
      "execution_count": null,
      "metadata": {
        "id": "mLntdjJ9-en-",
        "outputId": "acdab765-2c5e-4498-b8a2-3d55e338061d"
      },
      "outputs": [
        {
          "data": {
            "text/html": [
              "<div>\n",
              "<style scoped>\n",
              "    .dataframe tbody tr th:only-of-type {\n",
              "        vertical-align: middle;\n",
              "    }\n",
              "\n",
              "    .dataframe tbody tr th {\n",
              "        vertical-align: top;\n",
              "    }\n",
              "\n",
              "    .dataframe thead th {\n",
              "        text-align: right;\n",
              "    }\n",
              "</style>\n",
              "<table border=\"1\" class=\"dataframe\">\n",
              "  <thead>\n",
              "    <tr style=\"text-align: right;\">\n",
              "      <th></th>\n",
              "      <th>months_as_customer</th>\n",
              "      <th>age</th>\n",
              "      <th>policy_number</th>\n",
              "      <th>policy_bind_date</th>\n",
              "      <th>policy_state</th>\n",
              "      <th>policy_csl</th>\n",
              "      <th>policy_deductable</th>\n",
              "      <th>policy_annual_premium</th>\n",
              "      <th>umbrella_limit</th>\n",
              "      <th>insured_zip</th>\n",
              "      <th>...</th>\n",
              "      <th>witnesses</th>\n",
              "      <th>police_report_available</th>\n",
              "      <th>total_claim_amount</th>\n",
              "      <th>injury_claim</th>\n",
              "      <th>property_claim</th>\n",
              "      <th>vehicle_claim</th>\n",
              "      <th>auto_make</th>\n",
              "      <th>auto_model</th>\n",
              "      <th>auto_year</th>\n",
              "      <th>fraud_reported</th>\n",
              "    </tr>\n",
              "  </thead>\n",
              "  <tbody>\n",
              "    <tr>\n",
              "      <th>0</th>\n",
              "      <td>328</td>\n",
              "      <td>48</td>\n",
              "      <td>521585</td>\n",
              "      <td>2014-10-17</td>\n",
              "      <td>OH</td>\n",
              "      <td>250/500</td>\n",
              "      <td>1000</td>\n",
              "      <td>1406.91</td>\n",
              "      <td>0</td>\n",
              "      <td>466132</td>\n",
              "      <td>...</td>\n",
              "      <td>2</td>\n",
              "      <td>YES</td>\n",
              "      <td>71610</td>\n",
              "      <td>6510</td>\n",
              "      <td>13020</td>\n",
              "      <td>52080</td>\n",
              "      <td>Saab</td>\n",
              "      <td>92x</td>\n",
              "      <td>2004</td>\n",
              "      <td>Y</td>\n",
              "    </tr>\n",
              "    <tr>\n",
              "      <th>1</th>\n",
              "      <td>228</td>\n",
              "      <td>42</td>\n",
              "      <td>342868</td>\n",
              "      <td>2006-06-27</td>\n",
              "      <td>IN</td>\n",
              "      <td>250/500</td>\n",
              "      <td>2000</td>\n",
              "      <td>1197.22</td>\n",
              "      <td>5000000</td>\n",
              "      <td>468176</td>\n",
              "      <td>...</td>\n",
              "      <td>0</td>\n",
              "      <td>NaN</td>\n",
              "      <td>5070</td>\n",
              "      <td>780</td>\n",
              "      <td>780</td>\n",
              "      <td>3510</td>\n",
              "      <td>Mercedes</td>\n",
              "      <td>E400</td>\n",
              "      <td>2007</td>\n",
              "      <td>Y</td>\n",
              "    </tr>\n",
              "    <tr>\n",
              "      <th>2</th>\n",
              "      <td>134</td>\n",
              "      <td>29</td>\n",
              "      <td>687698</td>\n",
              "      <td>2000-09-06</td>\n",
              "      <td>OH</td>\n",
              "      <td>100/300</td>\n",
              "      <td>2000</td>\n",
              "      <td>1413.14</td>\n",
              "      <td>5000000</td>\n",
              "      <td>430632</td>\n",
              "      <td>...</td>\n",
              "      <td>3</td>\n",
              "      <td>NO</td>\n",
              "      <td>34650</td>\n",
              "      <td>7700</td>\n",
              "      <td>3850</td>\n",
              "      <td>23100</td>\n",
              "      <td>Dodge</td>\n",
              "      <td>RAM</td>\n",
              "      <td>2007</td>\n",
              "      <td>N</td>\n",
              "    </tr>\n",
              "    <tr>\n",
              "      <th>3</th>\n",
              "      <td>256</td>\n",
              "      <td>41</td>\n",
              "      <td>227811</td>\n",
              "      <td>1990-05-25</td>\n",
              "      <td>IL</td>\n",
              "      <td>250/500</td>\n",
              "      <td>2000</td>\n",
              "      <td>1415.74</td>\n",
              "      <td>6000000</td>\n",
              "      <td>608117</td>\n",
              "      <td>...</td>\n",
              "      <td>2</td>\n",
              "      <td>NO</td>\n",
              "      <td>63400</td>\n",
              "      <td>6340</td>\n",
              "      <td>6340</td>\n",
              "      <td>50720</td>\n",
              "      <td>Chevrolet</td>\n",
              "      <td>Tahoe</td>\n",
              "      <td>2014</td>\n",
              "      <td>Y</td>\n",
              "    </tr>\n",
              "    <tr>\n",
              "      <th>4</th>\n",
              "      <td>228</td>\n",
              "      <td>44</td>\n",
              "      <td>367455</td>\n",
              "      <td>2014-06-06</td>\n",
              "      <td>IL</td>\n",
              "      <td>500/1000</td>\n",
              "      <td>1000</td>\n",
              "      <td>1583.91</td>\n",
              "      <td>6000000</td>\n",
              "      <td>610706</td>\n",
              "      <td>...</td>\n",
              "      <td>1</td>\n",
              "      <td>NO</td>\n",
              "      <td>6500</td>\n",
              "      <td>1300</td>\n",
              "      <td>650</td>\n",
              "      <td>4550</td>\n",
              "      <td>Accura</td>\n",
              "      <td>RSX</td>\n",
              "      <td>2009</td>\n",
              "      <td>N</td>\n",
              "    </tr>\n",
              "    <tr>\n",
              "      <th>...</th>\n",
              "      <td>...</td>\n",
              "      <td>...</td>\n",
              "      <td>...</td>\n",
              "      <td>...</td>\n",
              "      <td>...</td>\n",
              "      <td>...</td>\n",
              "      <td>...</td>\n",
              "      <td>...</td>\n",
              "      <td>...</td>\n",
              "      <td>...</td>\n",
              "      <td>...</td>\n",
              "      <td>...</td>\n",
              "      <td>...</td>\n",
              "      <td>...</td>\n",
              "      <td>...</td>\n",
              "      <td>...</td>\n",
              "      <td>...</td>\n",
              "      <td>...</td>\n",
              "      <td>...</td>\n",
              "      <td>...</td>\n",
              "      <td>...</td>\n",
              "    </tr>\n",
              "    <tr>\n",
              "      <th>995</th>\n",
              "      <td>3</td>\n",
              "      <td>38</td>\n",
              "      <td>941851</td>\n",
              "      <td>1991-07-16</td>\n",
              "      <td>OH</td>\n",
              "      <td>500/1000</td>\n",
              "      <td>1000</td>\n",
              "      <td>1310.80</td>\n",
              "      <td>0</td>\n",
              "      <td>431289</td>\n",
              "      <td>...</td>\n",
              "      <td>1</td>\n",
              "      <td>NaN</td>\n",
              "      <td>87200</td>\n",
              "      <td>17440</td>\n",
              "      <td>8720</td>\n",
              "      <td>61040</td>\n",
              "      <td>Honda</td>\n",
              "      <td>Accord</td>\n",
              "      <td>2006</td>\n",
              "      <td>N</td>\n",
              "    </tr>\n",
              "    <tr>\n",
              "      <th>996</th>\n",
              "      <td>285</td>\n",
              "      <td>41</td>\n",
              "      <td>186934</td>\n",
              "      <td>2014-01-05</td>\n",
              "      <td>IL</td>\n",
              "      <td>100/300</td>\n",
              "      <td>1000</td>\n",
              "      <td>1436.79</td>\n",
              "      <td>0</td>\n",
              "      <td>608177</td>\n",
              "      <td>...</td>\n",
              "      <td>3</td>\n",
              "      <td>NaN</td>\n",
              "      <td>108480</td>\n",
              "      <td>18080</td>\n",
              "      <td>18080</td>\n",
              "      <td>72320</td>\n",
              "      <td>Volkswagen</td>\n",
              "      <td>Passat</td>\n",
              "      <td>2015</td>\n",
              "      <td>N</td>\n",
              "    </tr>\n",
              "    <tr>\n",
              "      <th>997</th>\n",
              "      <td>130</td>\n",
              "      <td>34</td>\n",
              "      <td>918516</td>\n",
              "      <td>2003-02-17</td>\n",
              "      <td>OH</td>\n",
              "      <td>250/500</td>\n",
              "      <td>500</td>\n",
              "      <td>1383.49</td>\n",
              "      <td>3000000</td>\n",
              "      <td>442797</td>\n",
              "      <td>...</td>\n",
              "      <td>3</td>\n",
              "      <td>YES</td>\n",
              "      <td>67500</td>\n",
              "      <td>7500</td>\n",
              "      <td>7500</td>\n",
              "      <td>52500</td>\n",
              "      <td>Suburu</td>\n",
              "      <td>Impreza</td>\n",
              "      <td>1996</td>\n",
              "      <td>N</td>\n",
              "    </tr>\n",
              "    <tr>\n",
              "      <th>998</th>\n",
              "      <td>458</td>\n",
              "      <td>62</td>\n",
              "      <td>533940</td>\n",
              "      <td>2011-11-18</td>\n",
              "      <td>IL</td>\n",
              "      <td>500/1000</td>\n",
              "      <td>2000</td>\n",
              "      <td>1356.92</td>\n",
              "      <td>5000000</td>\n",
              "      <td>441714</td>\n",
              "      <td>...</td>\n",
              "      <td>1</td>\n",
              "      <td>YES</td>\n",
              "      <td>46980</td>\n",
              "      <td>5220</td>\n",
              "      <td>5220</td>\n",
              "      <td>36540</td>\n",
              "      <td>Audi</td>\n",
              "      <td>A5</td>\n",
              "      <td>1998</td>\n",
              "      <td>N</td>\n",
              "    </tr>\n",
              "    <tr>\n",
              "      <th>999</th>\n",
              "      <td>456</td>\n",
              "      <td>60</td>\n",
              "      <td>556080</td>\n",
              "      <td>1996-11-11</td>\n",
              "      <td>OH</td>\n",
              "      <td>250/500</td>\n",
              "      <td>1000</td>\n",
              "      <td>766.19</td>\n",
              "      <td>0</td>\n",
              "      <td>612260</td>\n",
              "      <td>...</td>\n",
              "      <td>3</td>\n",
              "      <td>NaN</td>\n",
              "      <td>5060</td>\n",
              "      <td>460</td>\n",
              "      <td>920</td>\n",
              "      <td>3680</td>\n",
              "      <td>Mercedes</td>\n",
              "      <td>E400</td>\n",
              "      <td>2007</td>\n",
              "      <td>N</td>\n",
              "    </tr>\n",
              "  </tbody>\n",
              "</table>\n",
              "<p>1000 rows × 39 columns</p>\n",
              "</div>"
            ],
            "text/plain": [
              "     months_as_customer  age  policy_number policy_bind_date policy_state  \\\n",
              "0                   328   48         521585       2014-10-17           OH   \n",
              "1                   228   42         342868       2006-06-27           IN   \n",
              "2                   134   29         687698       2000-09-06           OH   \n",
              "3                   256   41         227811       1990-05-25           IL   \n",
              "4                   228   44         367455       2014-06-06           IL   \n",
              "..                  ...  ...            ...              ...          ...   \n",
              "995                   3   38         941851       1991-07-16           OH   \n",
              "996                 285   41         186934       2014-01-05           IL   \n",
              "997                 130   34         918516       2003-02-17           OH   \n",
              "998                 458   62         533940       2011-11-18           IL   \n",
              "999                 456   60         556080       1996-11-11           OH   \n",
              "\n",
              "    policy_csl  policy_deductable  policy_annual_premium  umbrella_limit  \\\n",
              "0      250/500               1000                1406.91               0   \n",
              "1      250/500               2000                1197.22         5000000   \n",
              "2      100/300               2000                1413.14         5000000   \n",
              "3      250/500               2000                1415.74         6000000   \n",
              "4     500/1000               1000                1583.91         6000000   \n",
              "..         ...                ...                    ...             ...   \n",
              "995   500/1000               1000                1310.80               0   \n",
              "996    100/300               1000                1436.79               0   \n",
              "997    250/500                500                1383.49         3000000   \n",
              "998   500/1000               2000                1356.92         5000000   \n",
              "999    250/500               1000                 766.19               0   \n",
              "\n",
              "     insured_zip  ... witnesses police_report_available total_claim_amount  \\\n",
              "0         466132  ...         2                     YES              71610   \n",
              "1         468176  ...         0                     NaN               5070   \n",
              "2         430632  ...         3                      NO              34650   \n",
              "3         608117  ...         2                      NO              63400   \n",
              "4         610706  ...         1                      NO               6500   \n",
              "..           ...  ...       ...                     ...                ...   \n",
              "995       431289  ...         1                     NaN              87200   \n",
              "996       608177  ...         3                     NaN             108480   \n",
              "997       442797  ...         3                     YES              67500   \n",
              "998       441714  ...         1                     YES              46980   \n",
              "999       612260  ...         3                     NaN               5060   \n",
              "\n",
              "    injury_claim property_claim  vehicle_claim   auto_make auto_model  \\\n",
              "0           6510          13020          52080        Saab        92x   \n",
              "1            780            780           3510    Mercedes       E400   \n",
              "2           7700           3850          23100       Dodge        RAM   \n",
              "3           6340           6340          50720   Chevrolet      Tahoe   \n",
              "4           1300            650           4550      Accura        RSX   \n",
              "..           ...            ...            ...         ...        ...   \n",
              "995        17440           8720          61040       Honda     Accord   \n",
              "996        18080          18080          72320  Volkswagen     Passat   \n",
              "997         7500           7500          52500      Suburu    Impreza   \n",
              "998         5220           5220          36540        Audi         A5   \n",
              "999          460            920           3680    Mercedes       E400   \n",
              "\n",
              "    auto_year fraud_reported  \n",
              "0        2004              Y  \n",
              "1        2007              Y  \n",
              "2        2007              N  \n",
              "3        2014              Y  \n",
              "4        2009              N  \n",
              "..        ...            ...  \n",
              "995      2006              N  \n",
              "996      2015              N  \n",
              "997      1996              N  \n",
              "998      1998              N  \n",
              "999      2007              N  \n",
              "\n",
              "[1000 rows x 39 columns]"
            ]
          },
          "execution_count": 14,
          "metadata": {},
          "output_type": "execute_result"
        }
      ],
      "source": [
        "insurance_claims_raw_clean = insurance_claims_raw.replace({ \"?\": np.nan})\n",
        "insurance_claims_raw_clean"
      ]
    },
    {
      "cell_type": "code",
      "execution_count": null,
      "metadata": {
        "id": "SP-aKFUZ-en_",
        "outputId": "cc386f03-35af-4ed0-f3cb-7dce1819bb74"
      },
      "outputs": [
        {
          "data": {
            "text/html": [
              "<div>\n",
              "<style scoped>\n",
              "    .dataframe tbody tr th:only-of-type {\n",
              "        vertical-align: middle;\n",
              "    }\n",
              "\n",
              "    .dataframe tbody tr th {\n",
              "        vertical-align: top;\n",
              "    }\n",
              "\n",
              "    .dataframe thead th {\n",
              "        text-align: right;\n",
              "    }\n",
              "</style>\n",
              "<table border=\"1\" class=\"dataframe\">\n",
              "  <thead>\n",
              "    <tr style=\"text-align: right;\">\n",
              "      <th></th>\n",
              "      <th>police_report_available</th>\n",
              "      <th>collision_type</th>\n",
              "    </tr>\n",
              "  </thead>\n",
              "  <tbody>\n",
              "    <tr>\n",
              "      <th>0</th>\n",
              "      <td>YES</td>\n",
              "      <td>Side Collision</td>\n",
              "    </tr>\n",
              "    <tr>\n",
              "      <th>1</th>\n",
              "      <td>NaN</td>\n",
              "      <td>NaN</td>\n",
              "    </tr>\n",
              "    <tr>\n",
              "      <th>2</th>\n",
              "      <td>NO</td>\n",
              "      <td>Rear Collision</td>\n",
              "    </tr>\n",
              "    <tr>\n",
              "      <th>3</th>\n",
              "      <td>NO</td>\n",
              "      <td>Front Collision</td>\n",
              "    </tr>\n",
              "    <tr>\n",
              "      <th>4</th>\n",
              "      <td>NO</td>\n",
              "      <td>NaN</td>\n",
              "    </tr>\n",
              "    <tr>\n",
              "      <th>...</th>\n",
              "      <td>...</td>\n",
              "      <td>...</td>\n",
              "    </tr>\n",
              "    <tr>\n",
              "      <th>995</th>\n",
              "      <td>NaN</td>\n",
              "      <td>Front Collision</td>\n",
              "    </tr>\n",
              "    <tr>\n",
              "      <th>996</th>\n",
              "      <td>NaN</td>\n",
              "      <td>Rear Collision</td>\n",
              "    </tr>\n",
              "    <tr>\n",
              "      <th>997</th>\n",
              "      <td>YES</td>\n",
              "      <td>Side Collision</td>\n",
              "    </tr>\n",
              "    <tr>\n",
              "      <th>998</th>\n",
              "      <td>YES</td>\n",
              "      <td>Rear Collision</td>\n",
              "    </tr>\n",
              "    <tr>\n",
              "      <th>999</th>\n",
              "      <td>NaN</td>\n",
              "      <td>NaN</td>\n",
              "    </tr>\n",
              "  </tbody>\n",
              "</table>\n",
              "<p>1000 rows × 2 columns</p>\n",
              "</div>"
            ],
            "text/plain": [
              "    police_report_available   collision_type\n",
              "0                       YES   Side Collision\n",
              "1                       NaN              NaN\n",
              "2                        NO   Rear Collision\n",
              "3                        NO  Front Collision\n",
              "4                        NO              NaN\n",
              "..                      ...              ...\n",
              "995                     NaN  Front Collision\n",
              "996                     NaN   Rear Collision\n",
              "997                     YES   Side Collision\n",
              "998                     YES   Rear Collision\n",
              "999                     NaN              NaN\n",
              "\n",
              "[1000 rows x 2 columns]"
            ]
          },
          "execution_count": 15,
          "metadata": {},
          "output_type": "execute_result"
        }
      ],
      "source": [
        "insurance_claims_raw_clean[['police_report_available','collision_type']]"
      ]
    },
    {
      "cell_type": "code",
      "execution_count": null,
      "metadata": {
        "id": "39eRkrpd-en_"
      },
      "outputs": [],
      "source": [
        " insurance_claims = insurance_claims_raw_clean.copy()"
      ]
    },
    {
      "cell_type": "code",
      "execution_count": null,
      "metadata": {
        "id": "kJX6ojTP-eoA"
      },
      "outputs": [],
      "source": [
        "selected_columns = ['months_as_customer', 'age', 'policy_state','policy_deductable','policy_annual_premium', 'insured_sex',\n",
        "       'insured_education_level', 'insured_occupation', 'insured_hobbies',\n",
        "       'insured_relationship', 'capital-gains', 'capital-loss',\n",
        "       'incident_date', 'incident_type', 'collision_type', 'incident_severity',\n",
        "       'authorities_contacted', 'incident_state', 'incident_city',\n",
        "       'incident_location', 'incident_hour_of_the_day','insured_zip','number_of_vehicles_involved', 'property_damage', 'bodily_injuries',\n",
        "       'witnesses','police_report_available', 'total_claim_amount',\n",
        "       'injury_claim', 'property_claim', 'vehicle_claim', 'auto_make',\n",
        "       'auto_model', 'auto_year', 'fraud_reported']"
      ]
    },
    {
      "cell_type": "markdown",
      "metadata": {
        "id": "cwewf7Vv-eoD"
      },
      "source": [
        "For further analysis, we will be focussing on above selected columns."
      ]
    },
    {
      "cell_type": "code",
      "execution_count": null,
      "metadata": {
        "id": "TMJyimxi-eoD"
      },
      "outputs": [],
      "source": [
        "insurance_df = insurance_claims_raw[selected_columns].copy()"
      ]
    },
    {
      "cell_type": "code",
      "execution_count": null,
      "metadata": {
        "id": "WX5x_OOg-eoF",
        "outputId": "e2164b8d-d6e6-4961-b1af-c16c1d8d9d0f"
      },
      "outputs": [
        {
          "data": {
            "text/plain": [
              "(1000, 35)"
            ]
          },
          "execution_count": 19,
          "metadata": {},
          "output_type": "execute_result"
        }
      ],
      "source": [
        "insurance_df.shape"
      ]
    },
    {
      "cell_type": "code",
      "execution_count": null,
      "metadata": {
        "id": "-Awf-sV9-eoG"
      },
      "outputs": [],
      "source": [
        "import jovian"
      ]
    },
    {
      "cell_type": "code",
      "execution_count": null,
      "metadata": {
        "id": "UqGMIiA8-eoH",
        "outputId": "706535b2-180d-4b7d-d450-2344ac5e3b65"
      },
      "outputs": [
        {
          "data": {
            "application/javascript": [
              "window.require && require([\"base/js/namespace\"],function(Jupyter){Jupyter.notebook.save_checkpoint()})"
            ],
            "text/plain": [
              "<IPython.core.display.Javascript object>"
            ]
          },
          "metadata": {},
          "output_type": "display_data"
        },
        {
          "name": "stdout",
          "output_type": "stream",
          "text": [
            "[jovian] Attempting to save notebook..\n",
            "[jovian] Updating notebook \"paritosh-b20/exploratory-data-analysis-on-automobile-insurance-data-set\" on https://jovian.ai/\n",
            "[jovian] Uploading notebook..\n",
            "[jovian] Capturing environment..\n",
            "[jovian] Committed successfully! https://jovian.ai/paritosh-b20/exploratory-data-analysis-on-automobile-insurance-data-set\n"
          ]
        },
        {
          "data": {
            "text/plain": [
              "'https://jovian.ai/paritosh-b20/exploratory-data-analysis-on-automobile-insurance-data-set'"
            ]
          },
          "execution_count": 21,
          "metadata": {},
          "output_type": "execute_result"
        }
      ],
      "source": [
        "jovian.commit()"
      ]
    },
    {
      "cell_type": "markdown",
      "metadata": {
        "id": "JrdxgbT0-eoI"
      },
      "source": [
        "## SECTION 3: EXPLORATORY ANALYSIS & VISUALIZATION"
      ]
    },
    {
      "cell_type": "markdown",
      "metadata": {
        "id": "OAP2uJM8-eoJ"
      },
      "source": [
        "Let's begin by importing`matplotlib.pyplot` and `seaborn`."
      ]
    },
    {
      "cell_type": "code",
      "execution_count": null,
      "metadata": {
        "id": "DYTyllUT-eoJ"
      },
      "outputs": [],
      "source": [
        "import seaborn as sns\n",
        "import matplotlib\n",
        "import matplotlib.pyplot as plt\n",
        "%matplotlib inline\n",
        "\n",
        "sns.set_style('darkgrid')\n",
        "matplotlib.rcParams['figure.facecolor'] = '#00000000'"
      ]
    },
    {
      "cell_type": "code",
      "execution_count": null,
      "metadata": {
        "id": "Tog_DBjc-eoK",
        "outputId": "fade9e40-e04a-492d-f162-e3a08f3387b4"
      },
      "outputs": [
        {
          "data": {
            "text/html": [
              "<div>\n",
              "<style scoped>\n",
              "    .dataframe tbody tr th:only-of-type {\n",
              "        vertical-align: middle;\n",
              "    }\n",
              "\n",
              "    .dataframe tbody tr th {\n",
              "        vertical-align: top;\n",
              "    }\n",
              "\n",
              "    .dataframe thead th {\n",
              "        text-align: right;\n",
              "    }\n",
              "</style>\n",
              "<table border=\"1\" class=\"dataframe\">\n",
              "  <thead>\n",
              "    <tr style=\"text-align: right;\">\n",
              "      <th></th>\n",
              "      <th>months_as_customer</th>\n",
              "      <th>age</th>\n",
              "      <th>policy_deductable</th>\n",
              "      <th>policy_annual_premium</th>\n",
              "      <th>capital-gains</th>\n",
              "      <th>capital-loss</th>\n",
              "      <th>incident_hour_of_the_day</th>\n",
              "      <th>insured_zip</th>\n",
              "      <th>number_of_vehicles_involved</th>\n",
              "      <th>bodily_injuries</th>\n",
              "      <th>witnesses</th>\n",
              "      <th>total_claim_amount</th>\n",
              "      <th>injury_claim</th>\n",
              "      <th>property_claim</th>\n",
              "      <th>vehicle_claim</th>\n",
              "      <th>auto_year</th>\n",
              "    </tr>\n",
              "  </thead>\n",
              "  <tbody>\n",
              "    <tr>\n",
              "      <th>count</th>\n",
              "      <td>1000.000000</td>\n",
              "      <td>1000.000000</td>\n",
              "      <td>1000.000000</td>\n",
              "      <td>1000.000000</td>\n",
              "      <td>1000.000000</td>\n",
              "      <td>1000.000000</td>\n",
              "      <td>1000.000000</td>\n",
              "      <td>1000.000000</td>\n",
              "      <td>1000.00000</td>\n",
              "      <td>1000.000000</td>\n",
              "      <td>1000.000000</td>\n",
              "      <td>1000.00000</td>\n",
              "      <td>1000.000000</td>\n",
              "      <td>1000.000000</td>\n",
              "      <td>1000.000000</td>\n",
              "      <td>1000.000000</td>\n",
              "    </tr>\n",
              "    <tr>\n",
              "      <th>mean</th>\n",
              "      <td>203.954000</td>\n",
              "      <td>38.948000</td>\n",
              "      <td>1136.000000</td>\n",
              "      <td>1256.406150</td>\n",
              "      <td>25126.100000</td>\n",
              "      <td>-26793.700000</td>\n",
              "      <td>11.644000</td>\n",
              "      <td>501214.488000</td>\n",
              "      <td>1.83900</td>\n",
              "      <td>0.992000</td>\n",
              "      <td>1.487000</td>\n",
              "      <td>52761.94000</td>\n",
              "      <td>7433.420000</td>\n",
              "      <td>7399.570000</td>\n",
              "      <td>37928.950000</td>\n",
              "      <td>2005.103000</td>\n",
              "    </tr>\n",
              "    <tr>\n",
              "      <th>std</th>\n",
              "      <td>115.113174</td>\n",
              "      <td>9.140287</td>\n",
              "      <td>611.864673</td>\n",
              "      <td>244.167395</td>\n",
              "      <td>27872.187708</td>\n",
              "      <td>28104.096686</td>\n",
              "      <td>6.951373</td>\n",
              "      <td>71701.610941</td>\n",
              "      <td>1.01888</td>\n",
              "      <td>0.820127</td>\n",
              "      <td>1.111335</td>\n",
              "      <td>26401.53319</td>\n",
              "      <td>4880.951853</td>\n",
              "      <td>4824.726179</td>\n",
              "      <td>18886.252893</td>\n",
              "      <td>6.015861</td>\n",
              "    </tr>\n",
              "    <tr>\n",
              "      <th>min</th>\n",
              "      <td>0.000000</td>\n",
              "      <td>19.000000</td>\n",
              "      <td>500.000000</td>\n",
              "      <td>433.330000</td>\n",
              "      <td>0.000000</td>\n",
              "      <td>-111100.000000</td>\n",
              "      <td>0.000000</td>\n",
              "      <td>430104.000000</td>\n",
              "      <td>1.00000</td>\n",
              "      <td>0.000000</td>\n",
              "      <td>0.000000</td>\n",
              "      <td>100.00000</td>\n",
              "      <td>0.000000</td>\n",
              "      <td>0.000000</td>\n",
              "      <td>70.000000</td>\n",
              "      <td>1995.000000</td>\n",
              "    </tr>\n",
              "    <tr>\n",
              "      <th>25%</th>\n",
              "      <td>115.750000</td>\n",
              "      <td>32.000000</td>\n",
              "      <td>500.000000</td>\n",
              "      <td>1089.607500</td>\n",
              "      <td>0.000000</td>\n",
              "      <td>-51500.000000</td>\n",
              "      <td>6.000000</td>\n",
              "      <td>448404.500000</td>\n",
              "      <td>1.00000</td>\n",
              "      <td>0.000000</td>\n",
              "      <td>1.000000</td>\n",
              "      <td>41812.50000</td>\n",
              "      <td>4295.000000</td>\n",
              "      <td>4445.000000</td>\n",
              "      <td>30292.500000</td>\n",
              "      <td>2000.000000</td>\n",
              "    </tr>\n",
              "    <tr>\n",
              "      <th>50%</th>\n",
              "      <td>199.500000</td>\n",
              "      <td>38.000000</td>\n",
              "      <td>1000.000000</td>\n",
              "      <td>1257.200000</td>\n",
              "      <td>0.000000</td>\n",
              "      <td>-23250.000000</td>\n",
              "      <td>12.000000</td>\n",
              "      <td>466445.500000</td>\n",
              "      <td>1.00000</td>\n",
              "      <td>1.000000</td>\n",
              "      <td>1.000000</td>\n",
              "      <td>58055.00000</td>\n",
              "      <td>6775.000000</td>\n",
              "      <td>6750.000000</td>\n",
              "      <td>42100.000000</td>\n",
              "      <td>2005.000000</td>\n",
              "    </tr>\n",
              "    <tr>\n",
              "      <th>75%</th>\n",
              "      <td>276.250000</td>\n",
              "      <td>44.000000</td>\n",
              "      <td>2000.000000</td>\n",
              "      <td>1415.695000</td>\n",
              "      <td>51025.000000</td>\n",
              "      <td>0.000000</td>\n",
              "      <td>17.000000</td>\n",
              "      <td>603251.000000</td>\n",
              "      <td>3.00000</td>\n",
              "      <td>2.000000</td>\n",
              "      <td>2.000000</td>\n",
              "      <td>70592.50000</td>\n",
              "      <td>11305.000000</td>\n",
              "      <td>10885.000000</td>\n",
              "      <td>50822.500000</td>\n",
              "      <td>2010.000000</td>\n",
              "    </tr>\n",
              "    <tr>\n",
              "      <th>max</th>\n",
              "      <td>479.000000</td>\n",
              "      <td>64.000000</td>\n",
              "      <td>2000.000000</td>\n",
              "      <td>2047.590000</td>\n",
              "      <td>100500.000000</td>\n",
              "      <td>0.000000</td>\n",
              "      <td>23.000000</td>\n",
              "      <td>620962.000000</td>\n",
              "      <td>4.00000</td>\n",
              "      <td>2.000000</td>\n",
              "      <td>3.000000</td>\n",
              "      <td>114920.00000</td>\n",
              "      <td>21450.000000</td>\n",
              "      <td>23670.000000</td>\n",
              "      <td>79560.000000</td>\n",
              "      <td>2015.000000</td>\n",
              "    </tr>\n",
              "  </tbody>\n",
              "</table>\n",
              "</div>"
            ],
            "text/plain": [
              "       months_as_customer          age  policy_deductable  \\\n",
              "count         1000.000000  1000.000000        1000.000000   \n",
              "mean           203.954000    38.948000        1136.000000   \n",
              "std            115.113174     9.140287         611.864673   \n",
              "min              0.000000    19.000000         500.000000   \n",
              "25%            115.750000    32.000000         500.000000   \n",
              "50%            199.500000    38.000000        1000.000000   \n",
              "75%            276.250000    44.000000        2000.000000   \n",
              "max            479.000000    64.000000        2000.000000   \n",
              "\n",
              "       policy_annual_premium  capital-gains   capital-loss  \\\n",
              "count            1000.000000    1000.000000    1000.000000   \n",
              "mean             1256.406150   25126.100000  -26793.700000   \n",
              "std               244.167395   27872.187708   28104.096686   \n",
              "min               433.330000       0.000000 -111100.000000   \n",
              "25%              1089.607500       0.000000  -51500.000000   \n",
              "50%              1257.200000       0.000000  -23250.000000   \n",
              "75%              1415.695000   51025.000000       0.000000   \n",
              "max              2047.590000  100500.000000       0.000000   \n",
              "\n",
              "       incident_hour_of_the_day    insured_zip  number_of_vehicles_involved  \\\n",
              "count               1000.000000    1000.000000                   1000.00000   \n",
              "mean                  11.644000  501214.488000                      1.83900   \n",
              "std                    6.951373   71701.610941                      1.01888   \n",
              "min                    0.000000  430104.000000                      1.00000   \n",
              "25%                    6.000000  448404.500000                      1.00000   \n",
              "50%                   12.000000  466445.500000                      1.00000   \n",
              "75%                   17.000000  603251.000000                      3.00000   \n",
              "max                   23.000000  620962.000000                      4.00000   \n",
              "\n",
              "       bodily_injuries    witnesses  total_claim_amount  injury_claim  \\\n",
              "count      1000.000000  1000.000000          1000.00000   1000.000000   \n",
              "mean          0.992000     1.487000         52761.94000   7433.420000   \n",
              "std           0.820127     1.111335         26401.53319   4880.951853   \n",
              "min           0.000000     0.000000           100.00000      0.000000   \n",
              "25%           0.000000     1.000000         41812.50000   4295.000000   \n",
              "50%           1.000000     1.000000         58055.00000   6775.000000   \n",
              "75%           2.000000     2.000000         70592.50000  11305.000000   \n",
              "max           2.000000     3.000000        114920.00000  21450.000000   \n",
              "\n",
              "       property_claim  vehicle_claim    auto_year  \n",
              "count     1000.000000    1000.000000  1000.000000  \n",
              "mean      7399.570000   37928.950000  2005.103000  \n",
              "std       4824.726179   18886.252893     6.015861  \n",
              "min          0.000000      70.000000  1995.000000  \n",
              "25%       4445.000000   30292.500000  2000.000000  \n",
              "50%       6750.000000   42100.000000  2005.000000  \n",
              "75%      10885.000000   50822.500000  2010.000000  \n",
              "max      23670.000000   79560.000000  2015.000000  "
            ]
          },
          "execution_count": 23,
          "metadata": {},
          "output_type": "execute_result"
        }
      ],
      "source": [
        "insurance_df.describe()"
      ]
    },
    {
      "cell_type": "markdown",
      "metadata": {
        "id": "t8bBKYFJ-eoM"
      },
      "source": [
        "## BASIC INFORMATION ABOUT PEOPLE BEING INSURED\n"
      ]
    },
    {
      "cell_type": "code",
      "execution_count": null,
      "metadata": {
        "id": "gblKBlEG-eoN"
      },
      "outputs": [],
      "source": [
        "Gender_count = insurance_df.insured_sex.value_counts()"
      ]
    },
    {
      "cell_type": "code",
      "execution_count": null,
      "metadata": {
        "id": "HgkM0IhG-eoO"
      },
      "outputs": [],
      "source": [
        "Hobbies_pct = insurance_df.insured_hobbies.value_counts()*100/insurance_df.insured_hobbies.count()"
      ]
    },
    {
      "cell_type": "code",
      "execution_count": null,
      "metadata": {
        "id": "lrXw5Dgf-eoO"
      },
      "outputs": [],
      "source": [
        "Profession_pct = insurance_df.insured_occupation.value_counts()*100/insurance_df.insured_occupation.count()"
      ]
    },
    {
      "cell_type": "code",
      "execution_count": null,
      "metadata": {
        "id": "xPl5kgNV-eoP"
      },
      "outputs": [],
      "source": [
        "Auto_model = insurance_df.auto_model.value_counts().head(5)"
      ]
    },
    {
      "cell_type": "code",
      "execution_count": null,
      "metadata": {
        "id": "crw4Fgzu-eoQ"
      },
      "outputs": [],
      "source": [
        "Months_as_customer = pd.cut(insurance_df.months_as_customer,bins=[0,150,300,450],labels=['Newly Enrolled','Short-Term','Long-Term Customer'])"
      ]
    },
    {
      "cell_type": "code",
      "execution_count": null,
      "metadata": {
        "id": "wqGMc1eV-eoQ",
        "outputId": "573809d4-e869-441c-ad1e-7e633b2d9e0b"
      },
      "outputs": [
        {
          "data": {
            "image/png": "[encoded data removed]",
            "text/plain": [
              "<Figure size 1080x720 with 6 Axes>"
            ]
          },
          "metadata": {
            "needs_background": "light"
          },
          "output_type": "display_data"
        }
      ],
      "source": [
        "fig,axes = plt.subplots(2,3,figsize=(15,10))\n",
        "plt.tight_layout(pad=8)\n",
        "plt.grid(False)\n",
        "sns.set_style(\"whitegrid\", {'axes.grid' : False})\n",
        "\n",
        "axes[0,0].set_title('Gender Distribution',fontsize=15,color='blue')\n",
        "axes[0,0].pie(insurance_df.insured_sex.value_counts(),labels=Gender_count.index,autopct='%1.1f%%',startangle=180)\n",
        "axes[0,0].legend()\n",
        "\n",
        "axes[0,1].set_xlabel('Number of People',fontsize=15)\n",
        "axes[0,1].set_title('Hobbies Distribution',fontsize=15,color='blue')\n",
        "axes[0,1].set_xlabel('Percentage',fontsize=15,color='blue')\n",
        "axes[0,1].set_ylabel(None,color='blue')\n",
        "sns.barplot(x=Hobbies_pct,y=Hobbies_pct.index,ax=axes[0,1]);\n",
        "\n",
        "axes[0,2].set_title('Top 5 Choices for Cars',fontsize=15,color='blue')\n",
        "axes[0,2].set_xlabel('Auto Model',fontsize=12,color='blue')\n",
        "axes[0,2].set_ylabel('Count',fontsize=12,color='blue')\n",
        "sns.barplot(x=Auto_model.index,y=Auto_model,ax=axes[0,2],alpha=0.5)\n",
        "\n",
        "axes[1,0].hist(insurance_df.age,color='red',alpha=0.5);\n",
        "axes[1,0].set_title('Age Distribution',fontsize=15,color='blue')\n",
        "axes[1,0].set_xlabel('Age',fontsize=15,color='blue')\n",
        "axes[1,0].set_ylabel('Number of People',fontsize=15,color='blue')\n",
        "\n",
        "axes[1,1].set_title('Profession Distribution',fontsize=15,color='blue')\n",
        "axes[1,1].set_xlabel('Percentage',fontsize=15,color='blue')\n",
        "sns.barplot(y=Profession_pct.index,x=Profession_pct,ax=axes[1,1]);\n",
        "\n",
        "axes[1,2].set_title('Months As Customer',fontsize=15,color='blue')\n",
        "axes[1,2].pie(Months_as_customer.value_counts(),labels=Months_as_customer.value_counts().index,autopct='%1.1f%%',startangle=180);"
      ]
    },
    {
      "cell_type": "markdown",
      "metadata": {
        "id": "aiQPsd2b-eoy"
      },
      "source": [
        "1. More than half of the total people insured in the 3 states combined are Females.\n",
        "2. Among the insured people, reading is the most preferred hobby followed by exercise. Together Accounting for more than 10%.\n",
        "3. The Car, Ram, an suv is the most preferred car model among the insured people.\n",
        "4. The mean age of all the insured people is 39 years. Most people fall in the age interval of 25-40 years.\n",
        "5. More than 8% of people insured are machine operation ispector.\n",
        "6. More than 47% of the insured people have been a customer for more than 150 months but less than 300 months."
      ]
    },
    {
      "cell_type": "markdown",
      "metadata": {
        "id": "XzxkODq2-eoz"
      },
      "source": [
        "## NUMBER OF MALE & FEMALE INSURED STATEWISE"
      ]
    },
    {
      "cell_type": "code",
      "execution_count": null,
      "metadata": {
        "id": "LoT3g7m8-eo0",
        "outputId": "032c53d2-4996-46c1-a4f0-83604e798088"
      },
      "outputs": [
        {
          "data": {
            "image/png": "[encoded data removed]",
            "text/plain": [
              "<Figure size 432x288 with 1 Axes>"
            ]
          },
          "metadata": {},
          "output_type": "display_data"
        }
      ],
      "source": [
        "insurance_state = pd.crosstab(insurance_df.policy_state,insurance_df.insured_sex)\n",
        "insurance_state.plot(kind='bar',grid=False)\n",
        "plt.xticks(rotation=0,fontsize=12)\n",
        "plt.xlabel('State',fontsize=12,color='blue')\n",
        "plt.ylabel('Number of People',fontsize=12,color='blue')\n",
        "plt.legend(fontsize=10)\n",
        "plt.title('Number of Male & Female insured Statewise',fontsize=14,color='blue');"
      ]
    },
    {
      "cell_type": "markdown",
      "metadata": {
        "id": "EWpgYV82-eo0"
      },
      "source": [
        "Across all the 3 states, More Females have been insured compared to the Males."
      ]
    },
    {
      "cell_type": "markdown",
      "metadata": {
        "id": "0QQor1iI-eo1"
      },
      "source": [
        "## NUMBER OF ACCIDENTS ACROSS CITIES OCCURED AT DIFFERENT HOUR OF THE DAY"
      ]
    },
    {
      "cell_type": "code",
      "execution_count": null,
      "metadata": {
        "id": "mhzxtf99-eo2",
        "outputId": "948c9ca1-3245-486f-e632-7e95d057283e"
      },
      "outputs": [
        {
          "data": {
            "image/png": "[encoded data removed]",
            "text/plain": [
              "<Figure size 648x432 with 2 Axes>"
            ]
          },
          "metadata": {},
          "output_type": "display_data"
        }
      ],
      "source": [
        "State_report = pd.crosstab(insurance_df.incident_city,insurance_df.incident_hour_of_the_day)\n",
        "plt.figure(figsize=(9,6))\n",
        "sns.heatmap(State_report,fmt=\"d\", annot=True, cmap='YlGnBu',linecolor='black',linewidths=.5)\n",
        "plt.title('Number of Accidents',fontsize=15,color='blue')\n",
        "plt.xlabel('Incident Hour of the Day', fontsize=15,color='blue')\n",
        "plt.ylabel('Incident City', fontsize=15,color='blue');"
      ]
    },
    {
      "cell_type": "markdown",
      "metadata": {
        "id": "mQLzXrt--eo2"
      },
      "source": [
        "## ANNUAL POLICY PREMIUM PAID BY THE CUSTOMERS"
      ]
    },
    {
      "cell_type": "code",
      "execution_count": null,
      "metadata": {
        "id": "vpULLrek-eo3",
        "outputId": "c3366672-8075-4489-842f-a81767515f19"
      },
      "outputs": [
        {
          "data": {
            "image/png": "[encoded data removed]",
            "text/plain": [
              "<Figure size 1080x360 with 3 Axes>"
            ]
          },
          "metadata": {},
          "output_type": "display_data"
        }
      ],
      "source": [
        "fig,axes = plt.subplots(1,3,figsize=(15,5))\n",
        "plt.tight_layout(pad=4)\n",
        "plt.grid(False)\n",
        "sns.set_style(\"whitegrid\", {'axes.grid' : False})\n",
        "\n",
        "axes[0].set_xlabel('Annual Policy Premium',fontsize=12,color='blue')\n",
        "axes[0].set_ylabel('Age',fontsize=12,color='blue')\n",
        "sns.scatterplot(x=insurance_df.policy_annual_premium,y=insurance_df.age,hue='insured_sex',data=insurance_df,ax=axes[0]);\n",
        "\n",
        "axes[1].set_xlabel('Annual Policy Premium',fontsize=12,color='blue')\n",
        "axes[1].set_ylabel('Months As Customer',fontsize=12,color='blue')\n",
        "sns.scatterplot(x=insurance_df.policy_annual_premium,y=insurance_df.months_as_customer,hue='insured_sex',data=insurance_df,ax=axes[1]);\n",
        "\n",
        "axes[2].hist(insurance_df.policy_annual_premium)\n",
        "axes[2].set_xlabel('Annual Policy Premium',fontsize=12,color='blue')\n",
        "axes[2].set_ylabel('Count',fontsize=12,color='blue');"
      ]
    },
    {
      "cell_type": "markdown",
      "metadata": {
        "id": "Za6rVMtB-eo4"
      },
      "source": [
        "## FREQUENCY OF ACCIDENTS ON HOURLY BASIS"
      ]
    },
    {
      "cell_type": "code",
      "execution_count": null,
      "metadata": {
        "id": "hb7E-x0k-eo4",
        "outputId": "f36bc32b-5654-4907-fa75-a899590272bb"
      },
      "outputs": [
        {
          "data": {
            "text/plain": [
              "count    1000.000000\n",
              "mean       11.644000\n",
              "std         6.951373\n",
              "min         0.000000\n",
              "25%         6.000000\n",
              "50%        12.000000\n",
              "75%        17.000000\n",
              "max        23.000000\n",
              "Name: incident_hour_of_the_day, dtype: float64"
            ]
          },
          "execution_count": 33,
          "metadata": {},
          "output_type": "execute_result"
        }
      ],
      "source": [
        "insurance_df.incident_hour_of_the_day.describe()"
      ]
    },
    {
      "cell_type": "code",
      "execution_count": null,
      "metadata": {
        "id": "DlIlhPHm-eo5",
        "outputId": "1f7f23f2-3ca3-4ca8-f11c-a7cc8e704198"
      },
      "outputs": [
        {
          "data": {
            "image/png": "[encoded data removed]",
            "text/plain": [
              "<Figure size 864x432 with 1 Axes>"
            ]
          },
          "metadata": {},
          "output_type": "display_data"
        }
      ],
      "source": [
        "plt.figure(figsize=(12,6))\n",
        "plt.grid(False)\n",
        "plt.title('Number of Accidents Hourly Distribution',color='blue',fontsize=14)\n",
        "plt.xlabel('Incident Hour of the Day',fontsize=12,color='blue')\n",
        "plt.ylabel(None,color='blue',fontsize=12);\n",
        "sns.countplot(x=insurance_df.incident_hour_of_the_day,color='pink');"
      ]
    },
    {
      "cell_type": "markdown",
      "metadata": {
        "id": "t8yX-2bS-eo6"
      },
      "source": [
        "## AUTOMOBILE INSURANCE PARAMETERS"
      ]
    },
    {
      "cell_type": "code",
      "execution_count": null,
      "metadata": {
        "id": "qp5qvf3y-eo7"
      },
      "outputs": [],
      "source": [
        "insurance_premium = insurance_df.groupby('policy_state')['policy_annual_premium'].mean()"
      ]
    },
    {
      "cell_type": "code",
      "execution_count": null,
      "metadata": {
        "id": "dRVCaj77-eo7"
      },
      "outputs": [],
      "source": [
        "insurance_claim = insurance_df.groupby('incident_state')['total_claim_amount'].mean()"
      ]
    },
    {
      "cell_type": "code",
      "execution_count": null,
      "metadata": {
        "id": "FS3iABoa-eo8"
      },
      "outputs": [],
      "source": [
        "insurance_state = insurance_df.groupby('incident_state')['policy_annual_premium'].mean()"
      ]
    },
    {
      "cell_type": "code",
      "execution_count": null,
      "metadata": {
        "id": "J3iTvPIk-eo9",
        "outputId": "93f0bb1c-e6f7-4dd1-b6ad-8917a8a39bbe"
      },
      "outputs": [
        {
          "data": {
            "image/png": "[encoded data removed]",
            "text/plain": [
              "<Figure size 1080x360 with 3 Axes>"
            ]
          },
          "metadata": {},
          "output_type": "display_data"
        }
      ],
      "source": [
        "fig,axes = plt.subplots(1,3,figsize=(15,5))\n",
        "plt.tight_layout(pad=4)\n",
        "sns.set_style('whitegrid')\n",
        "\n",
        "axes[0].set_xlabel('Annual Policy Premium',fontsize=12)\n",
        "axes[0].set_ylabel('Annual Policy Premium',fontsize=12,color='blue')\n",
        "axes[0].set_ylim([1200,1270])\n",
        "axes[0].grid(False)\n",
        "axes[0].set_title('Average Yearly Policy Premium in states',fontsize=15,color='blue')\n",
        "insurance_premium.plot(kind='bar',ax=axes[0],grid=False);\n",
        "\n",
        "axes[1].set_xlabel('Annual Policy Premium',fontsize=12)\n",
        "axes[1].set_ylabel('Claim Amount',fontsize=12,color='blue')\n",
        "axes[1].set_title('Average Yearly Claim Amount in states',fontsize=15,color='blue')\n",
        "insurance_claim.plot(kind='line',ax=axes[1],marker='.', c='y', ls='-', lw=3, ms=10,mec='red',grid=False)\n",
        "\n",
        "axes[2].set_xlabel('Annual Policy Premium',fontsize=12,color='blue')\n",
        "axes[2].set_ylabel('Annual Policy Premium',fontsize=12,color='blue');\n",
        "axes[2].set_title('Average Yearly Policy Premium in incident states',fontsize=15,color='blue')\n",
        "insurance_state.plot(kind='line',ax=axes[2],marker='.', c='g', ls='-', lw=2, ms=8, mew=2, mec='navy',grid=False);"
      ]
    },
    {
      "cell_type": "markdown",
      "metadata": {
        "id": "asEDO-s0-eo-"
      },
      "source": [
        "## AUTOMOBILE ACCIDENTS"
      ]
    },
    {
      "cell_type": "code",
      "execution_count": null,
      "metadata": {
        "id": "z_GARhIb-eo-"
      },
      "outputs": [],
      "source": [
        "Vehicles_involved = insurance_df.number_of_vehicles_involved.value_counts()"
      ]
    },
    {
      "cell_type": "code",
      "execution_count": null,
      "metadata": {
        "id": "v-QHZALG-epA"
      },
      "outputs": [],
      "source": [
        "Type_of_collision = insurance_df.collision_type.value_counts()"
      ]
    },
    {
      "cell_type": "code",
      "execution_count": null,
      "metadata": {
        "id": "QTQzXkLj-epB"
      },
      "outputs": [],
      "source": [
        "Incident_Type = insurance_df.incident_type.value_counts()*100/insurance_df.incident_type.count()"
      ]
    },
    {
      "cell_type": "code",
      "execution_count": null,
      "metadata": {
        "id": "E4xwegdl-epC"
      },
      "outputs": [],
      "source": [
        "Incident_Severity =insurance_df.incident_severity.value_counts()*100/insurance_df.incident_severity.count()"
      ]
    },
    {
      "cell_type": "code",
      "execution_count": null,
      "metadata": {
        "id": "7xh0gO4a-epD",
        "outputId": "60b98f9a-0d49-4ea5-e363-b68bd6485da1"
      },
      "outputs": [
        {
          "data": {
            "image/png": "[encoded data removed]",
            "text/plain": [
              "<Figure size 1008x432 with 2 Axes>"
            ]
          },
          "metadata": {},
          "output_type": "display_data"
        }
      ],
      "source": [
        "fig,axes = plt.subplots(1,2,figsize=(14,6))\n",
        "plt.tight_layout(pad=8)\n",
        "\n",
        "axes[0].set_title('Type of Accident',fontsize=15,color='blue')\n",
        "Incident_Type.plot(kind='bar',ax=axes[0],grid=False)\n",
        "xlabels=Incident_Type.index\n",
        "axes[0].set_xticklabels(xlabels, rotation=15);\n",
        "axes[0].set_ylabel('% of Total Accidents',fontsize=12,color='blue')\n",
        "\n",
        "axes[1].set_title('Severity of Accident',fontsize=15,color='blue')\n",
        "Incident_Severity.plot(kind='bar',ax=axes[1],grid=False);\n",
        "xlabels=Incident_Severity.index\n",
        "axes[1].set_xticklabels(xlabels, rotation=15)\n",
        "axes[1].set_ylabel('% of Total Accidents',fontsize=12,color='blue');"
      ]
    },
    {
      "cell_type": "code",
      "execution_count": null,
      "metadata": {
        "id": "wWJp7FEj-epE",
        "outputId": "ad579cad-5b6b-464f-8818-5cfe0d7be662"
      },
      "outputs": [
        {
          "data": {
            "image/png": "[encoded data removed]",
            "text/plain": [
              "<Figure size 1008x432 with 2 Axes>"
            ]
          },
          "metadata": {},
          "output_type": "display_data"
        }
      ],
      "source": [
        "fig,axes = plt.subplots(1,2,figsize=(14,6))\n",
        "plt.tight_layout(pad=8)\n",
        "\n",
        "axes[0].set_title('Number of Vehicles Involved in Accident',fontsize=15,color='blue')\n",
        "axes[0].pie(Vehicles_involved,labels=Vehicles_involved.index,autopct='%1.1f%%',startangle=180)\n",
        "\n",
        "axes[1].set_title('Type of Collision',fontsize=15,color='blue')\n",
        "axes[1].pie(Type_of_collision,labels=Type_of_collision.index,autopct='%1.1f%%',startangle=180);"
      ]
    },
    {
      "cell_type": "markdown",
      "metadata": {
        "id": "jjKp6jyO-epF"
      },
      "source": [
        "## REPORTING OF ACCIDENTS"
      ]
    },
    {
      "cell_type": "code",
      "execution_count": null,
      "metadata": {
        "id": "mHlV7VrE-epG",
        "outputId": "cd50e5dd-10be-4bf5-fcd8-c0a3495ecda5"
      },
      "outputs": [
        {
          "data": {
            "image/png": "[encoded data removed]",
            "text/plain": [
              "<Figure size 1080x576 with 4 Axes>"
            ]
          },
          "metadata": {},
          "output_type": "display_data"
        }
      ],
      "source": [
        "fig = plt.figure(figsize=(15, 8))\n",
        "ax1 = plt.subplot2grid((7, 12), (0, 0), rowspan=7,colspan=7)\n",
        "ax2 = plt.subplot2grid((7, 12), (0, 7), rowspan=3,colspan=5)\n",
        "ax3 = plt.subplot2grid((7, 12), (4, 7), rowspan=3,colspan=5)\n",
        "\n",
        "Accident_witnesses = pd.crosstab(insurance_df.incident_hour_of_the_day,insurance_df.witnesses)\n",
        "sns.heatmap(Accident_witnesses,fmt=\"d\", annot=True,linecolor='black',linewidths=.5,ax=ax1)\n",
        "ax1.set_title('Sighting Of Accidents By the People',fontsize=15,color='blue')\n",
        "ax1.set_xlabel('Incident Hour of the Day', fontsize=15,color='blue')\n",
        "ax1.set_ylabel('Number of Witnesses', fontsize=15,color='blue');\n",
        "\n",
        "Authorities_contacted = insurance_df.authorities_contacted.value_counts()\n",
        "Authorities_contacted.plot(kind='bar',grid=False,ax=ax2)\n",
        "xlabels=Authorities_contacted .index\n",
        "ax2.set_xticklabels(xlabels, rotation=0);\n",
        "ax2.set_title('Authorities Contacted',fontsize=14,color='blue')\n",
        "ax2.set_xlabel(\"Authorities\",fontsize=12,color='blue')\n",
        "ax2.set_ylabel(\"% of Total Authorities Contacted\",fontsize=12,color='blue');\n",
        "\n",
        "Reporting_Fraud_Gender = pd.crosstab(insurance_df.insured_sex,insurance_df.fraud_reported,normalize=True)\n",
        "Reporting_Fraud_Gender_Pct = Reporting_Fraud_Gender*100\n",
        "Reporting_Fraud_Gender_Pct.plot(kind='bar',grid=False,ax=ax3)\n",
        "ax3.set_title('Fraud Reported',fontsize=14,color='blue')\n",
        "ax3.set_xlabel(\"Gender\",fontsize=12,color='blue')\n",
        "ax3.set_ylabel(\"% of Total Frauds Reported\",fontsize=12,color='blue');"
      ]
    },
    {
      "cell_type": "code",
      "execution_count": null,
      "metadata": {
        "id": "dLB9xAni-epH"
      },
      "outputs": [],
      "source": [
        "import jovian"
      ]
    },
    {
      "cell_type": "code",
      "execution_count": null,
      "metadata": {
        "id": "iAEuRnDA-epI",
        "outputId": "5a137dee-ce43-43be-ca89-61121c9436d4"
      },
      "outputs": [
        {
          "data": {
            "application/javascript": [
              "window.require && require([\"base/js/namespace\"],function(Jupyter){Jupyter.notebook.save_checkpoint()})"
            ],
            "text/plain": [
              "<IPython.core.display.Javascript object>"
            ]
          },
          "metadata": {},
          "output_type": "display_data"
        },
        {
          "name": "stdout",
          "output_type": "stream",
          "text": [
            "[jovian] Attempting to save notebook..\n",
            "[jovian] Updating notebook \"paritosh-b20/exploratory-data-analysis-on-automobile-insurance-data-set\" on https://jovian.ai/\n",
            "[jovian] Uploading notebook..\n",
            "[jovian] Capturing environment..\n",
            "[jovian] Committed successfully! https://jovian.ai/paritosh-b20/exploratory-data-analysis-on-automobile-insurance-data-set\n"
          ]
        },
        {
          "data": {
            "text/plain": [
              "'https://jovian.ai/paritosh-b20/exploratory-data-analysis-on-automobile-insurance-data-set'"
            ]
          },
          "execution_count": 47,
          "metadata": {},
          "output_type": "execute_result"
        }
      ],
      "source": [
        "jovian.commit()"
      ]
    },
    {
      "cell_type": "markdown",
      "metadata": {
        "id": "6R0wRlkx-epI"
      },
      "source": [
        "## SECTION 4: ASKING & ANSWERING QUESTIONS"
      ]
    },
    {
      "cell_type": "markdown",
      "metadata": {
        "id": "UjGQ5_pK-epJ"
      },
      "source": [
        "#### Q1: Is there a significance difference in the mean annual premium & mean claim amount for male and female across the states?"
      ]
    },
    {
      "cell_type": "code",
      "execution_count": null,
      "metadata": {
        "id": "Th25uWBm-epK",
        "outputId": "c69fb0d8-6c84-42f2-a47b-52db83c78774"
      },
      "outputs": [
        {
          "data": {
            "text/html": [
              "<div>\n",
              "<style scoped>\n",
              "    .dataframe tbody tr th:only-of-type {\n",
              "        vertical-align: middle;\n",
              "    }\n",
              "\n",
              "    .dataframe tbody tr th {\n",
              "        vertical-align: top;\n",
              "    }\n",
              "\n",
              "    .dataframe thead th {\n",
              "        text-align: right;\n",
              "    }\n",
              "</style>\n",
              "<table border=\"1\" class=\"dataframe\">\n",
              "  <thead>\n",
              "    <tr style=\"text-align: right;\">\n",
              "      <th></th>\n",
              "      <th></th>\n",
              "      <th>months_as_customer</th>\n",
              "      <th>age</th>\n",
              "      <th>policy_annual_premium</th>\n",
              "      <th>total_claim_amount</th>\n",
              "    </tr>\n",
              "    <tr>\n",
              "      <th>policy_state</th>\n",
              "      <th>insured_sex</th>\n",
              "      <th></th>\n",
              "      <th></th>\n",
              "      <th></th>\n",
              "      <th></th>\n",
              "    </tr>\n",
              "  </thead>\n",
              "  <tbody>\n",
              "    <tr>\n",
              "      <th rowspan=\"2\" valign=\"top\">IL</th>\n",
              "      <th>FEMALE</th>\n",
              "      <td>197.815642</td>\n",
              "      <td>38.966480</td>\n",
              "      <td>1269.643855</td>\n",
              "      <td>53007.709497</td>\n",
              "    </tr>\n",
              "    <tr>\n",
              "      <th>MALE</th>\n",
              "      <td>209.408805</td>\n",
              "      <td>39.515723</td>\n",
              "      <td>1234.550629</td>\n",
              "      <td>52660.062893</td>\n",
              "    </tr>\n",
              "    <tr>\n",
              "      <th rowspan=\"2\" valign=\"top\">IN</th>\n",
              "      <th>FEMALE</th>\n",
              "      <td>193.386503</td>\n",
              "      <td>37.503067</td>\n",
              "      <td>1250.792945</td>\n",
              "      <td>54567.791411</td>\n",
              "    </tr>\n",
              "    <tr>\n",
              "      <th>MALE</th>\n",
              "      <td>219.034014</td>\n",
              "      <td>40.027211</td>\n",
              "      <td>1260.496871</td>\n",
              "      <td>51276.258503</td>\n",
              "    </tr>\n",
              "    <tr>\n",
              "      <th rowspan=\"2\" valign=\"top\">OH</th>\n",
              "      <th>FEMALE</th>\n",
              "      <td>200.497436</td>\n",
              "      <td>38.425641</td>\n",
              "      <td>1224.700615</td>\n",
              "      <td>52627.846154</td>\n",
              "    </tr>\n",
              "    <tr>\n",
              "      <th>MALE</th>\n",
              "      <td>206.573248</td>\n",
              "      <td>39.490446</td>\n",
              "      <td>1304.824459</td>\n",
              "      <td>52267.643312</td>\n",
              "    </tr>\n",
              "  </tbody>\n",
              "</table>\n",
              "</div>"
            ],
            "text/plain": [
              "                          months_as_customer        age  \\\n",
              "policy_state insured_sex                                  \n",
              "IL           FEMALE               197.815642  38.966480   \n",
              "             MALE                 209.408805  39.515723   \n",
              "IN           FEMALE               193.386503  37.503067   \n",
              "             MALE                 219.034014  40.027211   \n",
              "OH           FEMALE               200.497436  38.425641   \n",
              "             MALE                 206.573248  39.490446   \n",
              "\n",
              "                          policy_annual_premium  total_claim_amount  \n",
              "policy_state insured_sex                                             \n",
              "IL           FEMALE                 1269.643855        53007.709497  \n",
              "             MALE                   1234.550629        52660.062893  \n",
              "IN           FEMALE                 1250.792945        54567.791411  \n",
              "             MALE                   1260.496871        51276.258503  \n",
              "OH           FEMALE                 1224.700615        52627.846154  \n",
              "             MALE                   1304.824459        52267.643312  "
            ]
          },
          "execution_count": 48,
          "metadata": {},
          "output_type": "execute_result"
        }
      ],
      "source": [
        "Question_1 = insurance_df.groupby([\"policy_state\", \"insured_sex\"])[[\"months_as_customer\",\"age\",\"policy_annual_premium\",\"total_claim_amount\"\n",
        "]].mean()\n",
        "Question_1"
      ]
    },
    {
      "cell_type": "markdown",
      "metadata": {
        "id": "B4fHTtex-epK"
      },
      "source": [
        "1. The mean age of Male is greater than Female in every state. Illinois is the only state where the mean annual premium for male is less than the mean annual premium of a female.\n",
        "2. The Mean total claim amount in all 3 states is more than 50,000 Dollars. Mean Claim amount is higher for Females compared to the men.\n",
        "3. Even though more than half of the people insured are females, male have been customer for higher number of months."
      ]
    },
    {
      "cell_type": "markdown",
      "metadata": {
        "id": "7uaWPJt1-epL"
      },
      "source": [
        "#### Q2: Is the total Claim amount higher in case of more number of witnesses in a car accident?"
      ]
    },
    {
      "cell_type": "code",
      "execution_count": null,
      "metadata": {
        "id": "v6PsXeNQ-epM",
        "outputId": "cdcfe4ce-8419-4809-ee59-d8e1c1682b8c"
      },
      "outputs": [
        {
          "data": {
            "text/plain": [
              "54199.87951807229"
            ]
          },
          "execution_count": 49,
          "metadata": {},
          "output_type": "execute_result"
        }
      ],
      "source": [
        "insurance_df[insurance_df.witnesses==0]['total_claim_amount'].mean()"
      ]
    },
    {
      "cell_type": "code",
      "execution_count": null,
      "metadata": {
        "id": "_nFdKdE8-epN",
        "outputId": "24bfbff4-d782-47ff-d68a-979d44867454"
      },
      "outputs": [
        {
          "data": {
            "text/plain": [
              "50482.59689922481"
            ]
          },
          "execution_count": 50,
          "metadata": {},
          "output_type": "execute_result"
        }
      ],
      "source": [
        "insurance_df[insurance_df.witnesses==1]['total_claim_amount'].mean()"
      ]
    },
    {
      "cell_type": "code",
      "execution_count": null,
      "metadata": {
        "id": "d4GaYmuA-epO",
        "outputId": "4933defb-c70a-490a-de33-d08658880e92"
      },
      "outputs": [
        {
          "data": {
            "text/plain": [
              "54473.04"
            ]
          },
          "execution_count": 51,
          "metadata": {},
          "output_type": "execute_result"
        }
      ],
      "source": [
        "insurance_df[insurance_df.witnesses==2]['total_claim_amount'].mean()"
      ]
    },
    {
      "cell_type": "code",
      "execution_count": null,
      "metadata": {
        "id": "cKg8GKwL-epP",
        "outputId": "358da0a6-effd-40fa-eb1c-62215dba97ab"
      },
      "outputs": [
        {
          "data": {
            "text/plain": [
              "51948.148148148146"
            ]
          },
          "execution_count": 52,
          "metadata": {},
          "output_type": "execute_result"
        }
      ],
      "source": [
        "insurance_df[insurance_df.witnesses==3]['total_claim_amount'].mean()"
      ]
    },
    {
      "cell_type": "markdown",
      "metadata": {
        "id": "pTsBxIEG-epQ"
      },
      "source": [
        "## Results\n",
        "\n",
        "| Number of Witnesses | Mean Claim Amount |\n",
        "| --- | --- |\n",
        "| 0 | 54199.88 |\n",
        "| 1 | 50482.60 |\n",
        "| 2 | 54473.04 |\n",
        "| 3 | 51948.15 |\n",
        "\n",
        "From the above results, we can say that, the number of witnesses doesnot affect the total claim amount in the car insurance settlement."
      ]
    },
    {
      "cell_type": "markdown",
      "metadata": {
        "id": "kNECMwz3-epR"
      },
      "source": [
        "#### Q3: For an Insurer, which city is the least profitable?\n",
        "#### Here, least profitable means how much claim amount has been settled against the total annual premium collection."
      ]
    },
    {
      "cell_type": "code",
      "execution_count": null,
      "metadata": {
        "id": "hZx50GDf-epT",
        "outputId": "4caa8f2a-35e4-4f62-97ca-3369e80e2766"
      },
      "outputs": [
        {
          "data": {
            "text/html": [
              "<div>\n",
              "<style scoped>\n",
              "    .dataframe tbody tr th:only-of-type {\n",
              "        vertical-align: middle;\n",
              "    }\n",
              "\n",
              "    .dataframe tbody tr th {\n",
              "        vertical-align: top;\n",
              "    }\n",
              "\n",
              "    .dataframe thead th {\n",
              "        text-align: right;\n",
              "    }\n",
              "</style>\n",
              "<table border=\"1\" class=\"dataframe\">\n",
              "  <thead>\n",
              "    <tr style=\"text-align: right;\">\n",
              "      <th></th>\n",
              "      <th>policy_annual_premium</th>\n",
              "      <th>total_claim_amount</th>\n",
              "    </tr>\n",
              "    <tr>\n",
              "      <th>incident_city</th>\n",
              "      <th></th>\n",
              "      <th></th>\n",
              "    </tr>\n",
              "  </thead>\n",
              "  <tbody>\n",
              "    <tr>\n",
              "      <th>Springfield</th>\n",
              "      <td>196281.48</td>\n",
              "      <td>8541270</td>\n",
              "    </tr>\n",
              "    <tr>\n",
              "      <th>Arlington</th>\n",
              "      <td>187964.56</td>\n",
              "      <td>7370250</td>\n",
              "    </tr>\n",
              "    <tr>\n",
              "      <th>Columbus</th>\n",
              "      <td>184229.90</td>\n",
              "      <td>8121930</td>\n",
              "    </tr>\n",
              "    <tr>\n",
              "      <th>Northbend</th>\n",
              "      <td>181748.76</td>\n",
              "      <td>7812590</td>\n",
              "    </tr>\n",
              "    <tr>\n",
              "      <th>Hillsdale</th>\n",
              "      <td>177914.80</td>\n",
              "      <td>7470490</td>\n",
              "    </tr>\n",
              "    <tr>\n",
              "      <th>Riverwood</th>\n",
              "      <td>174735.10</td>\n",
              "      <td>7185060</td>\n",
              "    </tr>\n",
              "    <tr>\n",
              "      <th>Northbrook</th>\n",
              "      <td>153531.55</td>\n",
              "      <td>6260350</td>\n",
              "    </tr>\n",
              "  </tbody>\n",
              "</table>\n",
              "</div>"
            ],
            "text/plain": [
              "               policy_annual_premium  total_claim_amount\n",
              "incident_city                                           \n",
              "Springfield                196281.48             8541270\n",
              "Arlington                  187964.56             7370250\n",
              "Columbus                   184229.90             8121930\n",
              "Northbend                  181748.76             7812590\n",
              "Hillsdale                  177914.80             7470490\n",
              "Riverwood                  174735.10             7185060\n",
              "Northbrook                 153531.55             6260350"
            ]
          },
          "execution_count": 53,
          "metadata": {},
          "output_type": "execute_result"
        }
      ],
      "source": [
        "insurance_city = insurance_df.groupby('incident_city')[['policy_annual_premium','total_claim_amount']].sum().sort_values(ascending=False, by='policy_annual_premium')\n",
        "insurance_city"
      ]
    },
    {
      "cell_type": "code",
      "execution_count": null,
      "metadata": {
        "id": "gitmvaqe-epW",
        "outputId": "d953ac6a-60d5-4a9b-83cb-41c5c8ebf41c"
      },
      "outputs": [
        {
          "data": {
            "text/html": [
              "<div>\n",
              "<style scoped>\n",
              "    .dataframe tbody tr th:only-of-type {\n",
              "        vertical-align: middle;\n",
              "    }\n",
              "\n",
              "    .dataframe tbody tr th {\n",
              "        vertical-align: top;\n",
              "    }\n",
              "\n",
              "    .dataframe thead th {\n",
              "        text-align: right;\n",
              "    }\n",
              "</style>\n",
              "<table border=\"1\" class=\"dataframe\">\n",
              "  <thead>\n",
              "    <tr style=\"text-align: right;\">\n",
              "      <th></th>\n",
              "      <th>policy_annual_premium</th>\n",
              "      <th>total_claim_amount</th>\n",
              "      <th>Claim Settlement</th>\n",
              "    </tr>\n",
              "    <tr>\n",
              "      <th>incident_city</th>\n",
              "      <th></th>\n",
              "      <th></th>\n",
              "      <th></th>\n",
              "    </tr>\n",
              "  </thead>\n",
              "  <tbody>\n",
              "    <tr>\n",
              "      <th>Springfield</th>\n",
              "      <td>196281.48</td>\n",
              "      <td>8541270</td>\n",
              "      <td>8344988.52</td>\n",
              "    </tr>\n",
              "    <tr>\n",
              "      <th>Arlington</th>\n",
              "      <td>187964.56</td>\n",
              "      <td>7370250</td>\n",
              "      <td>7182285.44</td>\n",
              "    </tr>\n",
              "    <tr>\n",
              "      <th>Columbus</th>\n",
              "      <td>184229.90</td>\n",
              "      <td>8121930</td>\n",
              "      <td>7937700.10</td>\n",
              "    </tr>\n",
              "    <tr>\n",
              "      <th>Northbend</th>\n",
              "      <td>181748.76</td>\n",
              "      <td>7812590</td>\n",
              "      <td>7630841.24</td>\n",
              "    </tr>\n",
              "    <tr>\n",
              "      <th>Hillsdale</th>\n",
              "      <td>177914.80</td>\n",
              "      <td>7470490</td>\n",
              "      <td>7292575.20</td>\n",
              "    </tr>\n",
              "    <tr>\n",
              "      <th>Riverwood</th>\n",
              "      <td>174735.10</td>\n",
              "      <td>7185060</td>\n",
              "      <td>7010324.90</td>\n",
              "    </tr>\n",
              "    <tr>\n",
              "      <th>Northbrook</th>\n",
              "      <td>153531.55</td>\n",
              "      <td>6260350</td>\n",
              "      <td>6106818.45</td>\n",
              "    </tr>\n",
              "  </tbody>\n",
              "</table>\n",
              "</div>"
            ],
            "text/plain": [
              "               policy_annual_premium  total_claim_amount  Claim Settlement\n",
              "incident_city                                                             \n",
              "Springfield                196281.48             8541270        8344988.52\n",
              "Arlington                  187964.56             7370250        7182285.44\n",
              "Columbus                   184229.90             8121930        7937700.10\n",
              "Northbend                  181748.76             7812590        7630841.24\n",
              "Hillsdale                  177914.80             7470490        7292575.20\n",
              "Riverwood                  174735.10             7185060        7010324.90\n",
              "Northbrook                 153531.55             6260350        6106818.45"
            ]
          },
          "execution_count": 54,
          "metadata": {},
          "output_type": "execute_result"
        }
      ],
      "source": [
        "insurance_city['Claim Settlement'] = insurance_city['total_claim_amount']-insurance_city['policy_annual_premium']\n",
        "insurance_city"
      ]
    },
    {
      "cell_type": "markdown",
      "metadata": {
        "id": "sLAJVBA5-epX"
      },
      "source": [
        "The claim settlement is minimum for city SpringField, where the difference between the total claim amount and total annual premium collection is the highest."
      ]
    },
    {
      "cell_type": "markdown",
      "metadata": {
        "id": "lq9s5bC4-epY"
      },
      "source": [
        "#### Q4: Which Auto Model were subjected to car accident maximum number of times based upon the incident severity?"
      ]
    },
    {
      "cell_type": "code",
      "execution_count": null,
      "metadata": {
        "id": "t2G7Ankk-epY"
      },
      "outputs": [],
      "source": [
        "insurance_automodel = pd.crosstab(insurance_df.auto_model,insurance_df.incident_severity)"
      ]
    },
    {
      "cell_type": "code",
      "execution_count": null,
      "metadata": {
        "id": "BbQEXSRS-epZ",
        "outputId": "f7157637-28df-4c88-e9e2-9e5b30ee768e"
      },
      "outputs": [
        {
          "data": {
            "image/png": "[encoded data removed]",
            "text/plain": [
              "<Figure size 864x576 with 1 Axes>"
            ]
          },
          "metadata": {},
          "output_type": "display_data"
        }
      ],
      "source": [
        "insurance_automodel.plot(kind='bar', stacked=True, figsize=(12,8),grid=False)\n",
        "plt.title('Auto Models subjected to accident severity',fontsize=16,color='blue');"
      ]
    },
    {
      "cell_type": "markdown",
      "metadata": {
        "id": "keGuN85W-epa"
      },
      "source": [
        "The most preferred vehicle among the insured people is Ford Ram (An SUV) which is also the vehicle which has been involved in most number of accidents in the all states combined."
      ]
    },
    {
      "cell_type": "markdown",
      "metadata": {
        "id": "hnm7dcWn-epb"
      },
      "source": [
        "#### Q5: In case of a major accident, people are likey to contact which authority to mitigate the further damage?"
      ]
    },
    {
      "cell_type": "code",
      "execution_count": null,
      "metadata": {
        "id": "svWUUyd0-epb",
        "outputId": "61e773e3-07b8-4ca0-ddf6-a7f878f093f8"
      },
      "outputs": [
        {
          "data": {
            "text/html": [
              "<div>\n",
              "<style scoped>\n",
              "    .dataframe tbody tr th:only-of-type {\n",
              "        vertical-align: middle;\n",
              "    }\n",
              "\n",
              "    .dataframe tbody tr th {\n",
              "        vertical-align: top;\n",
              "    }\n",
              "\n",
              "    .dataframe thead th {\n",
              "        text-align: right;\n",
              "    }\n",
              "</style>\n",
              "<table border=\"1\" class=\"dataframe\">\n",
              "  <thead>\n",
              "    <tr style=\"text-align: right;\">\n",
              "      <th>incident_severity</th>\n",
              "      <th>Major Damage</th>\n",
              "      <th>Minor Damage</th>\n",
              "      <th>Total Loss</th>\n",
              "      <th>Trivial Damage</th>\n",
              "    </tr>\n",
              "    <tr>\n",
              "      <th>authorities_contacted</th>\n",
              "      <th></th>\n",
              "      <th></th>\n",
              "      <th></th>\n",
              "      <th></th>\n",
              "    </tr>\n",
              "  </thead>\n",
              "  <tbody>\n",
              "    <tr>\n",
              "      <th>Ambulance</th>\n",
              "      <td>70</td>\n",
              "      <td>62</td>\n",
              "      <td>64</td>\n",
              "      <td>0</td>\n",
              "    </tr>\n",
              "    <tr>\n",
              "      <th>Fire</th>\n",
              "      <td>82</td>\n",
              "      <td>76</td>\n",
              "      <td>65</td>\n",
              "      <td>0</td>\n",
              "    </tr>\n",
              "    <tr>\n",
              "      <th>None</th>\n",
              "      <td>0</td>\n",
              "      <td>50</td>\n",
              "      <td>0</td>\n",
              "      <td>41</td>\n",
              "    </tr>\n",
              "    <tr>\n",
              "      <th>Other</th>\n",
              "      <td>66</td>\n",
              "      <td>55</td>\n",
              "      <td>77</td>\n",
              "      <td>0</td>\n",
              "    </tr>\n",
              "    <tr>\n",
              "      <th>Police</th>\n",
              "      <td>58</td>\n",
              "      <td>111</td>\n",
              "      <td>74</td>\n",
              "      <td>49</td>\n",
              "    </tr>\n",
              "  </tbody>\n",
              "</table>\n",
              "</div>"
            ],
            "text/plain": [
              "incident_severity      Major Damage  Minor Damage  Total Loss  Trivial Damage\n",
              "authorities_contacted                                                        \n",
              "Ambulance                        70            62          64               0\n",
              "Fire                             82            76          65               0\n",
              "None                              0            50           0              41\n",
              "Other                            66            55          77               0\n",
              "Police                           58           111          74              49"
            ]
          },
          "execution_count": 57,
          "metadata": {},
          "output_type": "execute_result"
        }
      ],
      "source": [
        "Accident_emergency = pd.crosstab(insurance_df.authorities_contacted,insurance_df.incident_severity)\n",
        "Accident_emergency"
      ]
    },
    {
      "cell_type": "markdown",
      "metadata": {
        "id": "aYfYCY2Z-epc"
      },
      "source": [
        "In case of a major damage, people are seen to be contacting the Fire Department authorities which may be due to fire post accident or as a precuationary measure. For other minor damages or total loss people have the tendency to contact the police."
      ]
    },
    {
      "cell_type": "markdown",
      "metadata": {
        "id": "GY4NqTjV-epd"
      },
      "source": [
        "Let us save and upload our work to Jovian before continuing."
      ]
    },
    {
      "cell_type": "code",
      "execution_count": null,
      "metadata": {
        "id": "hUMUnI28-epe"
      },
      "outputs": [],
      "source": [
        "import jovian"
      ]
    },
    {
      "cell_type": "code",
      "execution_count": null,
      "metadata": {
        "id": "td10i1XS-epf",
        "outputId": "f9a1b6c7-91f5-4e52-da26-a9d0acbf30c8"
      },
      "outputs": [
        {
          "data": {
            "application/javascript": [
              "window.require && require([\"base/js/namespace\"],function(Jupyter){Jupyter.notebook.save_checkpoint()})"
            ],
            "text/plain": [
              "<IPython.core.display.Javascript object>"
            ]
          },
          "metadata": {},
          "output_type": "display_data"
        },
        {
          "name": "stdout",
          "output_type": "stream",
          "text": [
            "[jovian] Attempting to save notebook..\n",
            "[jovian] Updating notebook \"paritosh-b20/exploratory-data-analysis-on-automobile-insurance-data-set\" on https://jovian.ai/\n",
            "[jovian] Uploading notebook..\n",
            "[jovian] Capturing environment..\n",
            "[jovian] Committed successfully! https://jovian.ai/paritosh-b20/exploratory-data-analysis-on-automobile-insurance-data-set\n"
          ]
        },
        {
          "data": {
            "text/plain": [
              "'https://jovian.ai/paritosh-b20/exploratory-data-analysis-on-automobile-insurance-data-set'"
            ]
          },
          "execution_count": 59,
          "metadata": {},
          "output_type": "execute_result"
        }
      ],
      "source": [
        "jovian.commit()"
      ]
    },
    {
      "cell_type": "markdown",
      "metadata": {
        "id": "qk7HnfqV-epf"
      },
      "source": [
        "## Inferences and Conclusion\n",
        "\n",
        "1. More than half of the total people insured in the 3 states combined are Females.\n",
        "2. Among the insured people, reading is the most preferred hobby followed by exercise. Together Accounting for more than 10%.\n",
        "3. The Car, Ram, an suv is the most preferred car model among the insured people.\n",
        "4. The mean age of all the insured people is 39 years. Most people fall in the age interval of 25-40 years.\n",
        "5. More than 8% of people insured are machine operation ispector.\n",
        "6. More than 47% of the insured people have been a customer for more than 150 months but less than 300 months.\n",
        "7. Across all the 3 states, More Females have been insured compared to the Males.\n",
        "8. The mean age of Male is greater than Female in every state. Illinois is the only state where the mean annual premium for male is less than the mean annual premium of a female.\n",
        "9. The Mean total claim amount in all 3 states is more than 50,000 Dollars. Mean Claim amount is higher for Females compared to the men.\n",
        "10. Even though more than half of the people insured are females, male have been customer for higher number of months.\n",
        "11. The number of witnesses doesnot affect the total claim amount in the car insurance settlement.\n",
        "12. The claim settlement is minimum for city SpringField, where the difference between the total claim amount and total annual premium collection is the highest.\n",
        "13. In case of a major damage, people are seen to be contacting the Fire Department authorities which may be due to fire post accident or as a precuationary measure. For other minor damages or total loss people have the tendency to contact the police.\n",
        "14. The most preferred vehicle among the insured people is Ford Ram (An SUV) which is also the vehicle which has been involved in most number of accidents in the all states combined.\n",
        "15. Females are more reluctant to report the accident  "
      ]
    },
    {
      "cell_type": "code",
      "execution_count": null,
      "metadata": {
        "id": "EugHWlMu-epg"
      },
      "outputs": [],
      "source": [
        "import jovian"
      ]
    },
    {
      "cell_type": "code",
      "execution_count": null,
      "metadata": {
        "id": "13ycxkxT-eph",
        "outputId": "0de26411-d535-48d5-90a3-7b7d5630cc21"
      },
      "outputs": [
        {
          "data": {
            "application/javascript": [
              "window.require && require([\"base/js/namespace\"],function(Jupyter){Jupyter.notebook.save_checkpoint()})"
            ],
            "text/plain": [
              "<IPython.core.display.Javascript object>"
            ]
          },
          "metadata": {},
          "output_type": "display_data"
        },
        {
          "name": "stdout",
          "output_type": "stream",
          "text": [
            "[jovian] Attempting to save notebook..\n",
            "[jovian] Updating notebook \"paritosh-b20/exploratory-data-analysis-on-automobile-insurance-data-set\" on https://jovian.ai/\n",
            "[jovian] Uploading notebook..\n",
            "[jovian] Capturing environment..\n",
            "[jovian] Committed successfully! https://jovian.ai/paritosh-b20/exploratory-data-analysis-on-automobile-insurance-data-set\n"
          ]
        },
        {
          "data": {
            "text/plain": [
              "'https://jovian.ai/paritosh-b20/exploratory-data-analysis-on-automobile-insurance-data-set'"
            ]
          },
          "execution_count": 61,
          "metadata": {},
          "output_type": "execute_result"
        }
      ],
      "source": [
        "jovian.commit()"
      ]
    },
    {
      "cell_type": "markdown",
      "metadata": {
        "id": "QrWyd-jU-epi"
      },
      "source": [
        "## References and Future Work\n",
        "\n",
        "- Numpy official tutorial : https://numpy.org/doc/stable/user/quickstart.html\n",
        "- GeeksforGeeks tutorial : https://www.geeksforgeeks.org/python-numpy/\n",
        "- W3Schools Tutorial : https://www.w3schools.com/python/numpy_intro.asp"
      ]
    },
    {
      "cell_type": "code",
      "execution_count": null,
      "metadata": {
        "id": "c8PsTN8M-epj"
      },
      "outputs": [],
      "source": [
        "import jovian"
      ]
    },
    {
      "cell_type": "code",
      "execution_count": null,
      "metadata": {
        "scrolled": true,
        "id": "LG6tDiA2-epj",
        "outputId": "6b47ed64-1ae5-461c-dbfa-fd83c97b0d93"
      },
      "outputs": [
        {
          "data": {
            "application/javascript": [
              "window.require && require([\"base/js/namespace\"],function(Jupyter){Jupyter.notebook.save_checkpoint()})"
            ],
            "text/plain": [
              "<IPython.core.display.Javascript object>"
            ]
          },
          "metadata": {},
          "output_type": "display_data"
        },
        {
          "name": "stdout",
          "output_type": "stream",
          "text": [
            "[jovian] Attempting to save notebook..\r\n"
          ]
        }
      ],
      "source": [
        "jovian.commit()"
      ]
    },
    {
      "cell_type": "code",
      "execution_count": null,
      "metadata": {
        "id": "xwQF4kab-epl"
      },
      "outputs": [],
      "source": []
    }
  ],
  "metadata": {
    "language_info": {
      "codemirror_mode": {
        "name": "ipython",
        "version": 3
      },
      "file_extension": ".py",
      "mimetype": "text/x-python",
      "name": "python",
      "nbconvert_exporter": "python",
      "pygments_lexer": "ipython3",
      "version": "3.8.5"
    },
    "colab": {
      "provenance": [],
      "include_colab_link": true
    }
  },
  "nbformat": 4,
  "nbformat_minor": 0
}